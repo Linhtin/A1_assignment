{
 "cells": [
  {
   "cell_type": "markdown",
   "id": "c3dabdcf",
   "metadata": {},
   "source": [
    "# Car price linear regression"
   ]
  },
  {
   "cell_type": "markdown",
   "id": "010d8957",
   "metadata": {},
   "source": [
    "# Feature Analysis Table\n",
    "\n",
    "| Feature | Definition | Discussion |\n",
    "|---------|------------|------------|\n",
    "| Name | Brand and model of the car | Consider dropping as it's too specific for regression. Could extract brand name as a categorical feature if needed. |\n",
    "| Year | Manufacturing year of the car | Requires normalization/scaling. \n",
    "| Selling_price | Price at which the car is listed for sale | Target variable. Consider log transformation. |\n",
    "| km_driven | Total kilometers traveled by the car | Requires normalization/scaling. Strong indicator of car condition and value. |\n",
    "| Fuel | Type of fuel used by the car | Binary encoding appropriate (Petrol/Diesel) after removing rare categories (LPG/CNG). Use one-hot encoding if keeping all fuel types. |\n",
    "| Seller_type | Category of seller (Individual/Dealer/Trustmark Dealer) | One-hot encoding recommended as categories are nominal with no inherent order. |\n",
    "| Transmission | Type of transmission (Manual/Automatic) | Binary encoding sufficient as there are only two categories. No need for one-hot encoding. |\n",
    "| Owner | Number of previous owners | Ordinal encoding recommended (First=1, Second=2, Third=3) as there's a natural hierarchy that correlates with value. |\n",
    "| Mileage | Fuel efficiency (kmpl) | Extract numeric values only (e.g., \"20.0 kmpl\" → 20.0). Important efficiency indicator. |\n",
    "| Engine | Engine displacement in CC | Extract numeric values only (e.g., \"1248 CC\" → 1248). Key technical specification. |\n",
    "| Max_power | Engine power in bhp | Extract numeric values only (e.g., \"74 bhp\" → 74). Important performance indicator. |\n",
    "| Torque | Engine torque | Consider dropping due to complex parsing needs and lower correlation with price. If kept, needs standardized extraction of numeric values. |\n",
    "| Seats | Number of seats in the car | Keep as is. Check for missing values and outliers. Generally stable feature with minimal preprocessing needed. |"
   ]
  },
  {
   "cell_type": "markdown",
   "id": "c5a878ca",
   "metadata": {},
   "source": [
    "## Task1"
   ]
  },
  {
   "attachments": {},
   "cell_type": "markdown",
   "metadata": {},
   "source": [
    "## 0. Importing libraries"
   ]
  },
  {
   "cell_type": "code",
   "execution_count": 1,
   "metadata": {},
   "outputs": [],
   "source": [
    "import numpy as np\n",
    "import pandas as pd\n",
    "import seaborn as sns\n",
    "import matplotlib.pyplot as plt \n",
    "import warnings\n",
    "warnings.filterwarnings('ignore')"
   ]
  },
  {
   "cell_type": "code",
   "execution_count": 2,
   "id": "f25c8be2",
   "metadata": {},
   "outputs": [
    {
     "data": {
      "text/plain": [
       "('1.26.4', '2.2.3', '0.13.2', '3.10.0')"
      ]
     },
     "execution_count": 2,
     "metadata": {},
     "output_type": "execute_result"
    }
   ],
   "source": [
    "import matplotlib\n",
    "np.__version__, pd.__version__, sns.__version__, matplotlib.__version__"
   ]
  },
  {
   "attachments": {},
   "cell_type": "markdown",
   "metadata": {},
   "source": [
    "## 1. Load data"
   ]
  },
  {
   "cell_type": "code",
   "execution_count": 3,
   "metadata": {},
   "outputs": [],
   "source": [
    "df = pd.read_csv('../data/raw/Cars.csv')"
   ]
  },
  {
   "cell_type": "code",
   "execution_count": 4,
   "metadata": {},
   "outputs": [
    {
     "data": {
      "text/html": [
       "<div>\n",
       "<style scoped>\n",
       "    .dataframe tbody tr th:only-of-type {\n",
       "        vertical-align: middle;\n",
       "    }\n",
       "\n",
       "    .dataframe tbody tr th {\n",
       "        vertical-align: top;\n",
       "    }\n",
       "\n",
       "    .dataframe thead th {\n",
       "        text-align: right;\n",
       "    }\n",
       "</style>\n",
       "<table border=\"1\" class=\"dataframe\">\n",
       "  <thead>\n",
       "    <tr style=\"text-align: right;\">\n",
       "      <th></th>\n",
       "      <th>name</th>\n",
       "      <th>year</th>\n",
       "      <th>selling_price</th>\n",
       "      <th>km_driven</th>\n",
       "      <th>fuel</th>\n",
       "      <th>seller_type</th>\n",
       "      <th>transmission</th>\n",
       "      <th>owner</th>\n",
       "      <th>mileage</th>\n",
       "      <th>engine</th>\n",
       "      <th>max_power</th>\n",
       "      <th>torque</th>\n",
       "      <th>seats</th>\n",
       "    </tr>\n",
       "  </thead>\n",
       "  <tbody>\n",
       "    <tr>\n",
       "      <th>0</th>\n",
       "      <td>Maruti Swift Dzire VDI</td>\n",
       "      <td>2014</td>\n",
       "      <td>450000</td>\n",
       "      <td>145500</td>\n",
       "      <td>Diesel</td>\n",
       "      <td>Individual</td>\n",
       "      <td>Manual</td>\n",
       "      <td>First Owner</td>\n",
       "      <td>23.4 kmpl</td>\n",
       "      <td>1248 CC</td>\n",
       "      <td>74 bhp</td>\n",
       "      <td>190Nm@ 2000rpm</td>\n",
       "      <td>5.0</td>\n",
       "    </tr>\n",
       "    <tr>\n",
       "      <th>1</th>\n",
       "      <td>Skoda Rapid 1.5 TDI Ambition</td>\n",
       "      <td>2014</td>\n",
       "      <td>370000</td>\n",
       "      <td>120000</td>\n",
       "      <td>Diesel</td>\n",
       "      <td>Individual</td>\n",
       "      <td>Manual</td>\n",
       "      <td>Second Owner</td>\n",
       "      <td>21.14 kmpl</td>\n",
       "      <td>1498 CC</td>\n",
       "      <td>103.52 bhp</td>\n",
       "      <td>250Nm@ 1500-2500rpm</td>\n",
       "      <td>5.0</td>\n",
       "    </tr>\n",
       "    <tr>\n",
       "      <th>2</th>\n",
       "      <td>Honda City 2017-2020 EXi</td>\n",
       "      <td>2006</td>\n",
       "      <td>158000</td>\n",
       "      <td>140000</td>\n",
       "      <td>Petrol</td>\n",
       "      <td>Individual</td>\n",
       "      <td>Manual</td>\n",
       "      <td>Third Owner</td>\n",
       "      <td>17.7 kmpl</td>\n",
       "      <td>1497 CC</td>\n",
       "      <td>78 bhp</td>\n",
       "      <td>12.7@ 2,700(kgm@ rpm)</td>\n",
       "      <td>5.0</td>\n",
       "    </tr>\n",
       "    <tr>\n",
       "      <th>3</th>\n",
       "      <td>Hyundai i20 Sportz Diesel</td>\n",
       "      <td>2010</td>\n",
       "      <td>225000</td>\n",
       "      <td>127000</td>\n",
       "      <td>Diesel</td>\n",
       "      <td>Individual</td>\n",
       "      <td>Manual</td>\n",
       "      <td>First Owner</td>\n",
       "      <td>23.0 kmpl</td>\n",
       "      <td>1396 CC</td>\n",
       "      <td>90 bhp</td>\n",
       "      <td>22.4 kgm at 1750-2750rpm</td>\n",
       "      <td>5.0</td>\n",
       "    </tr>\n",
       "    <tr>\n",
       "      <th>4</th>\n",
       "      <td>Maruti Swift VXI BSIII</td>\n",
       "      <td>2007</td>\n",
       "      <td>130000</td>\n",
       "      <td>120000</td>\n",
       "      <td>Petrol</td>\n",
       "      <td>Individual</td>\n",
       "      <td>Manual</td>\n",
       "      <td>First Owner</td>\n",
       "      <td>16.1 kmpl</td>\n",
       "      <td>1298 CC</td>\n",
       "      <td>88.2 bhp</td>\n",
       "      <td>11.5@ 4,500(kgm@ rpm)</td>\n",
       "      <td>5.0</td>\n",
       "    </tr>\n",
       "  </tbody>\n",
       "</table>\n",
       "</div>"
      ],
      "text/plain": [
       "                           name  year  selling_price  km_driven    fuel  \\\n",
       "0        Maruti Swift Dzire VDI  2014         450000     145500  Diesel   \n",
       "1  Skoda Rapid 1.5 TDI Ambition  2014         370000     120000  Diesel   \n",
       "2      Honda City 2017-2020 EXi  2006         158000     140000  Petrol   \n",
       "3     Hyundai i20 Sportz Diesel  2010         225000     127000  Diesel   \n",
       "4        Maruti Swift VXI BSIII  2007         130000     120000  Petrol   \n",
       "\n",
       "  seller_type transmission         owner     mileage   engine   max_power  \\\n",
       "0  Individual       Manual   First Owner   23.4 kmpl  1248 CC      74 bhp   \n",
       "1  Individual       Manual  Second Owner  21.14 kmpl  1498 CC  103.52 bhp   \n",
       "2  Individual       Manual   Third Owner   17.7 kmpl  1497 CC      78 bhp   \n",
       "3  Individual       Manual   First Owner   23.0 kmpl  1396 CC      90 bhp   \n",
       "4  Individual       Manual   First Owner   16.1 kmpl  1298 CC    88.2 bhp   \n",
       "\n",
       "                     torque  seats  \n",
       "0            190Nm@ 2000rpm    5.0  \n",
       "1       250Nm@ 1500-2500rpm    5.0  \n",
       "2     12.7@ 2,700(kgm@ rpm)    5.0  \n",
       "3  22.4 kgm at 1750-2750rpm    5.0  \n",
       "4     11.5@ 4,500(kgm@ rpm)    5.0  "
      ]
     },
     "execution_count": 4,
     "metadata": {},
     "output_type": "execute_result"
    }
   ],
   "source": [
    "# print the first rows of data\n",
    "df.head()"
   ]
  },
  {
   "cell_type": "code",
   "execution_count": 5,
   "metadata": {},
   "outputs": [
    {
     "data": {
      "text/plain": [
       "(8128, 13)"
      ]
     },
     "execution_count": 5,
     "metadata": {},
     "output_type": "execute_result"
    }
   ],
   "source": [
    "# Check the shape of data\n",
    "df.shape"
   ]
  },
  {
   "cell_type": "code",
   "execution_count": 6,
   "metadata": {},
   "outputs": [
    {
     "name": "stdout",
     "output_type": "stream",
     "text": [
      "<class 'pandas.core.frame.DataFrame'>\n",
      "RangeIndex: 8128 entries, 0 to 8127\n",
      "Data columns (total 13 columns):\n",
      " #   Column         Non-Null Count  Dtype  \n",
      "---  ------         --------------  -----  \n",
      " 0   name           8128 non-null   object \n",
      " 1   year           8128 non-null   int64  \n",
      " 2   selling_price  8128 non-null   int64  \n",
      " 3   km_driven      8128 non-null   int64  \n",
      " 4   fuel           8128 non-null   object \n",
      " 5   seller_type    8128 non-null   object \n",
      " 6   transmission   8128 non-null   object \n",
      " 7   owner          8128 non-null   object \n",
      " 8   mileage        7907 non-null   object \n",
      " 9   engine         7907 non-null   object \n",
      " 10  max_power      7913 non-null   object \n",
      " 11  torque         7906 non-null   object \n",
      " 12  seats          7907 non-null   float64\n",
      "dtypes: float64(1), int64(3), object(9)\n",
      "memory usage: 825.6+ KB\n"
     ]
    }
   ],
   "source": [
    "# Check Dtypes of input data\n",
    "df.info()"
   ]
  },
  {
   "cell_type": "code",
   "execution_count": 7,
   "metadata": {
    "scrolled": true
   },
   "outputs": [
    {
     "data": {
      "text/plain": [
       "Index(['name', 'year', 'selling_price', 'km_driven', 'fuel', 'seller_type',\n",
       "       'transmission', 'owner', 'mileage', 'engine', 'max_power', 'torque',\n",
       "       'seats'],\n",
       "      dtype='object')"
      ]
     },
     "execution_count": 7,
     "metadata": {},
     "output_type": "execute_result"
    }
   ],
   "source": [
    "# Check the column names\n",
    "df.columns"
   ]
  },
  {
   "attachments": {},
   "cell_type": "markdown",
   "id": "e747b26a",
   "metadata": {},
   "source": [
    "## 2. Exploratory Data Analysis"
   ]
  },
  {
   "cell_type": "markdown",
   "id": "6369bbdc",
   "metadata": {},
   "source": [
    "#### \"Owner\": As per instructions, map the first = 1, second =2, third = 3, fourth = 4 and test_drive_car to 5. "
   ]
  },
  {
   "cell_type": "code",
   "execution_count": 8,
   "id": "7b5d0bd7",
   "metadata": {},
   "outputs": [
    {
     "name": "stdout",
     "output_type": "stream",
     "text": [
      "[1 2 3 4 5]\n"
     ]
    }
   ],
   "source": [
    "# Define a custom mapping\n",
    "mapping = {\n",
    "    \"First Owner\": 1,\n",
    "    \"Second Owner\": 2,\n",
    "    \"Third Owner\": 3,\n",
    "    \"Fourth & Above Owner\": 4,\n",
    "    \"Test Drive Car\": 5\n",
    "}\n",
    "\n",
    "# Apply the mapping\n",
    "df[\"owner\"] = df[\"owner\"].map(mapping)\n",
    "\n",
    "# Check the results\n",
    "print(df[\"owner\"].unique())  # Output: [1, 2, 3, 4, 5]"
   ]
  },
  {
   "cell_type": "code",
   "execution_count": 9,
   "id": "8cfef805",
   "metadata": {},
   "outputs": [
    {
     "data": {
      "text/html": [
       "<div>\n",
       "<style scoped>\n",
       "    .dataframe tbody tr th:only-of-type {\n",
       "        vertical-align: middle;\n",
       "    }\n",
       "\n",
       "    .dataframe tbody tr th {\n",
       "        vertical-align: top;\n",
       "    }\n",
       "\n",
       "    .dataframe thead th {\n",
       "        text-align: right;\n",
       "    }\n",
       "</style>\n",
       "<table border=\"1\" class=\"dataframe\">\n",
       "  <thead>\n",
       "    <tr style=\"text-align: right;\">\n",
       "      <th></th>\n",
       "      <th>name</th>\n",
       "      <th>year</th>\n",
       "      <th>selling_price</th>\n",
       "      <th>km_driven</th>\n",
       "      <th>fuel</th>\n",
       "      <th>seller_type</th>\n",
       "      <th>transmission</th>\n",
       "      <th>owner</th>\n",
       "      <th>mileage</th>\n",
       "      <th>engine</th>\n",
       "      <th>max_power</th>\n",
       "      <th>torque</th>\n",
       "      <th>seats</th>\n",
       "    </tr>\n",
       "  </thead>\n",
       "  <tbody>\n",
       "    <tr>\n",
       "      <th>0</th>\n",
       "      <td>Maruti Swift Dzire VDI</td>\n",
       "      <td>2014</td>\n",
       "      <td>450000</td>\n",
       "      <td>145500</td>\n",
       "      <td>Diesel</td>\n",
       "      <td>Individual</td>\n",
       "      <td>Manual</td>\n",
       "      <td>1</td>\n",
       "      <td>23.4 kmpl</td>\n",
       "      <td>1248 CC</td>\n",
       "      <td>74 bhp</td>\n",
       "      <td>190Nm@ 2000rpm</td>\n",
       "      <td>5.0</td>\n",
       "    </tr>\n",
       "    <tr>\n",
       "      <th>1</th>\n",
       "      <td>Skoda Rapid 1.5 TDI Ambition</td>\n",
       "      <td>2014</td>\n",
       "      <td>370000</td>\n",
       "      <td>120000</td>\n",
       "      <td>Diesel</td>\n",
       "      <td>Individual</td>\n",
       "      <td>Manual</td>\n",
       "      <td>2</td>\n",
       "      <td>21.14 kmpl</td>\n",
       "      <td>1498 CC</td>\n",
       "      <td>103.52 bhp</td>\n",
       "      <td>250Nm@ 1500-2500rpm</td>\n",
       "      <td>5.0</td>\n",
       "    </tr>\n",
       "    <tr>\n",
       "      <th>2</th>\n",
       "      <td>Honda City 2017-2020 EXi</td>\n",
       "      <td>2006</td>\n",
       "      <td>158000</td>\n",
       "      <td>140000</td>\n",
       "      <td>Petrol</td>\n",
       "      <td>Individual</td>\n",
       "      <td>Manual</td>\n",
       "      <td>3</td>\n",
       "      <td>17.7 kmpl</td>\n",
       "      <td>1497 CC</td>\n",
       "      <td>78 bhp</td>\n",
       "      <td>12.7@ 2,700(kgm@ rpm)</td>\n",
       "      <td>5.0</td>\n",
       "    </tr>\n",
       "    <tr>\n",
       "      <th>3</th>\n",
       "      <td>Hyundai i20 Sportz Diesel</td>\n",
       "      <td>2010</td>\n",
       "      <td>225000</td>\n",
       "      <td>127000</td>\n",
       "      <td>Diesel</td>\n",
       "      <td>Individual</td>\n",
       "      <td>Manual</td>\n",
       "      <td>1</td>\n",
       "      <td>23.0 kmpl</td>\n",
       "      <td>1396 CC</td>\n",
       "      <td>90 bhp</td>\n",
       "      <td>22.4 kgm at 1750-2750rpm</td>\n",
       "      <td>5.0</td>\n",
       "    </tr>\n",
       "    <tr>\n",
       "      <th>4</th>\n",
       "      <td>Maruti Swift VXI BSIII</td>\n",
       "      <td>2007</td>\n",
       "      <td>130000</td>\n",
       "      <td>120000</td>\n",
       "      <td>Petrol</td>\n",
       "      <td>Individual</td>\n",
       "      <td>Manual</td>\n",
       "      <td>1</td>\n",
       "      <td>16.1 kmpl</td>\n",
       "      <td>1298 CC</td>\n",
       "      <td>88.2 bhp</td>\n",
       "      <td>11.5@ 4,500(kgm@ rpm)</td>\n",
       "      <td>5.0</td>\n",
       "    </tr>\n",
       "    <tr>\n",
       "      <th>...</th>\n",
       "      <td>...</td>\n",
       "      <td>...</td>\n",
       "      <td>...</td>\n",
       "      <td>...</td>\n",
       "      <td>...</td>\n",
       "      <td>...</td>\n",
       "      <td>...</td>\n",
       "      <td>...</td>\n",
       "      <td>...</td>\n",
       "      <td>...</td>\n",
       "      <td>...</td>\n",
       "      <td>...</td>\n",
       "      <td>...</td>\n",
       "    </tr>\n",
       "    <tr>\n",
       "      <th>8123</th>\n",
       "      <td>Hyundai i20 Magna</td>\n",
       "      <td>2013</td>\n",
       "      <td>320000</td>\n",
       "      <td>110000</td>\n",
       "      <td>Petrol</td>\n",
       "      <td>Individual</td>\n",
       "      <td>Manual</td>\n",
       "      <td>1</td>\n",
       "      <td>18.5 kmpl</td>\n",
       "      <td>1197 CC</td>\n",
       "      <td>82.85 bhp</td>\n",
       "      <td>113.7Nm@ 4000rpm</td>\n",
       "      <td>5.0</td>\n",
       "    </tr>\n",
       "    <tr>\n",
       "      <th>8124</th>\n",
       "      <td>Hyundai Verna CRDi SX</td>\n",
       "      <td>2007</td>\n",
       "      <td>135000</td>\n",
       "      <td>119000</td>\n",
       "      <td>Diesel</td>\n",
       "      <td>Individual</td>\n",
       "      <td>Manual</td>\n",
       "      <td>4</td>\n",
       "      <td>16.8 kmpl</td>\n",
       "      <td>1493 CC</td>\n",
       "      <td>110 bhp</td>\n",
       "      <td>24@ 1,900-2,750(kgm@ rpm)</td>\n",
       "      <td>5.0</td>\n",
       "    </tr>\n",
       "    <tr>\n",
       "      <th>8125</th>\n",
       "      <td>Maruti Swift Dzire ZDi</td>\n",
       "      <td>2009</td>\n",
       "      <td>382000</td>\n",
       "      <td>120000</td>\n",
       "      <td>Diesel</td>\n",
       "      <td>Individual</td>\n",
       "      <td>Manual</td>\n",
       "      <td>1</td>\n",
       "      <td>19.3 kmpl</td>\n",
       "      <td>1248 CC</td>\n",
       "      <td>73.9 bhp</td>\n",
       "      <td>190Nm@ 2000rpm</td>\n",
       "      <td>5.0</td>\n",
       "    </tr>\n",
       "    <tr>\n",
       "      <th>8126</th>\n",
       "      <td>Tata Indigo CR4</td>\n",
       "      <td>2013</td>\n",
       "      <td>290000</td>\n",
       "      <td>25000</td>\n",
       "      <td>Diesel</td>\n",
       "      <td>Individual</td>\n",
       "      <td>Manual</td>\n",
       "      <td>1</td>\n",
       "      <td>23.57 kmpl</td>\n",
       "      <td>1396 CC</td>\n",
       "      <td>70 bhp</td>\n",
       "      <td>140Nm@ 1800-3000rpm</td>\n",
       "      <td>5.0</td>\n",
       "    </tr>\n",
       "    <tr>\n",
       "      <th>8127</th>\n",
       "      <td>Tata Indigo CR4</td>\n",
       "      <td>2013</td>\n",
       "      <td>290000</td>\n",
       "      <td>25000</td>\n",
       "      <td>Diesel</td>\n",
       "      <td>Individual</td>\n",
       "      <td>Manual</td>\n",
       "      <td>1</td>\n",
       "      <td>23.57 kmpl</td>\n",
       "      <td>1396 CC</td>\n",
       "      <td>70 bhp</td>\n",
       "      <td>140Nm@ 1800-3000rpm</td>\n",
       "      <td>5.0</td>\n",
       "    </tr>\n",
       "  </tbody>\n",
       "</table>\n",
       "<p>8128 rows × 13 columns</p>\n",
       "</div>"
      ],
      "text/plain": [
       "                              name  year  selling_price  km_driven    fuel  \\\n",
       "0           Maruti Swift Dzire VDI  2014         450000     145500  Diesel   \n",
       "1     Skoda Rapid 1.5 TDI Ambition  2014         370000     120000  Diesel   \n",
       "2         Honda City 2017-2020 EXi  2006         158000     140000  Petrol   \n",
       "3        Hyundai i20 Sportz Diesel  2010         225000     127000  Diesel   \n",
       "4           Maruti Swift VXI BSIII  2007         130000     120000  Petrol   \n",
       "...                            ...   ...            ...        ...     ...   \n",
       "8123             Hyundai i20 Magna  2013         320000     110000  Petrol   \n",
       "8124         Hyundai Verna CRDi SX  2007         135000     119000  Diesel   \n",
       "8125        Maruti Swift Dzire ZDi  2009         382000     120000  Diesel   \n",
       "8126               Tata Indigo CR4  2013         290000      25000  Diesel   \n",
       "8127               Tata Indigo CR4  2013         290000      25000  Diesel   \n",
       "\n",
       "     seller_type transmission  owner     mileage   engine   max_power  \\\n",
       "0     Individual       Manual      1   23.4 kmpl  1248 CC      74 bhp   \n",
       "1     Individual       Manual      2  21.14 kmpl  1498 CC  103.52 bhp   \n",
       "2     Individual       Manual      3   17.7 kmpl  1497 CC      78 bhp   \n",
       "3     Individual       Manual      1   23.0 kmpl  1396 CC      90 bhp   \n",
       "4     Individual       Manual      1   16.1 kmpl  1298 CC    88.2 bhp   \n",
       "...          ...          ...    ...         ...      ...         ...   \n",
       "8123  Individual       Manual      1   18.5 kmpl  1197 CC   82.85 bhp   \n",
       "8124  Individual       Manual      4   16.8 kmpl  1493 CC     110 bhp   \n",
       "8125  Individual       Manual      1   19.3 kmpl  1248 CC    73.9 bhp   \n",
       "8126  Individual       Manual      1  23.57 kmpl  1396 CC      70 bhp   \n",
       "8127  Individual       Manual      1  23.57 kmpl  1396 CC      70 bhp   \n",
       "\n",
       "                         torque  seats  \n",
       "0                190Nm@ 2000rpm    5.0  \n",
       "1           250Nm@ 1500-2500rpm    5.0  \n",
       "2         12.7@ 2,700(kgm@ rpm)    5.0  \n",
       "3      22.4 kgm at 1750-2750rpm    5.0  \n",
       "4         11.5@ 4,500(kgm@ rpm)    5.0  \n",
       "...                         ...    ...  \n",
       "8123           113.7Nm@ 4000rpm    5.0  \n",
       "8124  24@ 1,900-2,750(kgm@ rpm)    5.0  \n",
       "8125             190Nm@ 2000rpm    5.0  \n",
       "8126        140Nm@ 1800-3000rpm    5.0  \n",
       "8127        140Nm@ 1800-3000rpm    5.0  \n",
       "\n",
       "[8128 rows x 13 columns]"
      ]
     },
     "execution_count": 9,
     "metadata": {},
     "output_type": "execute_result"
    }
   ],
   "source": [
    "df"
   ]
  },
  {
   "cell_type": "markdown",
   "id": "355c78e4",
   "metadata": {},
   "source": [
    "#### \"fuel\": As per instruction, drop all rows with CNG and LPG becuase they are using different mileage system. "
   ]
  },
  {
   "cell_type": "code",
   "execution_count": 10,
   "id": "329f6c6c",
   "metadata": {},
   "outputs": [
    {
     "data": {
      "text/plain": [
       "array(['Diesel', 'Petrol', 'LPG', 'CNG'], dtype=object)"
      ]
     },
     "execution_count": 10,
     "metadata": {},
     "output_type": "execute_result"
    }
   ],
   "source": [
    "df['fuel'].unique() # check the original df['fuel']"
   ]
  },
  {
   "cell_type": "code",
   "execution_count": 11,
   "id": "c05269f1",
   "metadata": {},
   "outputs": [],
   "source": [
    "# remove the rows with fuel type CNG and LPG\n",
    "df = df[df.fuel != 'CNG']\n",
    "df = df[df.fuel != 'LPG'] "
   ]
  },
  {
   "cell_type": "code",
   "execution_count": 12,
   "id": "e00ce13d",
   "metadata": {},
   "outputs": [
    {
     "data": {
      "text/plain": [
       "array(['Diesel', 'Petrol'], dtype=object)"
      ]
     },
     "execution_count": 12,
     "metadata": {},
     "output_type": "execute_result"
    }
   ],
   "source": [
    "df['fuel'].unique() # check the modified df['fuel']"
   ]
  },
  {
   "cell_type": "markdown",
   "id": "eb3b3632",
   "metadata": {},
   "source": [
    "#### \"mileage\": As per instruction, remove 'kmpl' and convert column to numerial type"
   ]
  },
  {
   "cell_type": "code",
   "execution_count": 13,
   "id": "d5b8435b",
   "metadata": {},
   "outputs": [
    {
     "data": {
      "text/plain": [
       "0        23.4 kmpl\n",
       "1       21.14 kmpl\n",
       "2        17.7 kmpl\n",
       "3        23.0 kmpl\n",
       "4        16.1 kmpl\n",
       "           ...    \n",
       "8123     18.5 kmpl\n",
       "8124     16.8 kmpl\n",
       "8125     19.3 kmpl\n",
       "8126    23.57 kmpl\n",
       "8127    23.57 kmpl\n",
       "Name: mileage, Length: 8033, dtype: object"
      ]
     },
     "execution_count": 13,
     "metadata": {},
     "output_type": "execute_result"
    }
   ],
   "source": [
    "df['mileage'] # check the original df['mileage']"
   ]
  },
  {
   "cell_type": "code",
   "execution_count": 14,
   "id": "d4a5907c",
   "metadata": {},
   "outputs": [],
   "source": [
    "df['mileage'] = df.mileage.str.split().str[0].astype(float) # remove the kmpl from mileage and convert it to float"
   ]
  },
  {
   "cell_type": "code",
   "execution_count": 15,
   "id": "4eb0917f",
   "metadata": {},
   "outputs": [
    {
     "data": {
      "text/plain": [
       "0       23.40\n",
       "1       21.14\n",
       "2       17.70\n",
       "3       23.00\n",
       "4       16.10\n",
       "        ...  \n",
       "8123    18.50\n",
       "8124    16.80\n",
       "8125    19.30\n",
       "8126    23.57\n",
       "8127    23.57\n",
       "Name: mileage, Length: 8033, dtype: float64"
      ]
     },
     "execution_count": 15,
     "metadata": {},
     "output_type": "execute_result"
    }
   ],
   "source": [
    "df['mileage'] # check the modified df['mileage']"
   ]
  },
  {
   "cell_type": "markdown",
   "id": "024096bf",
   "metadata": {},
   "source": [
    "#### \"Engine\": As per instruction, remove 'CC' and convert column to numerial type"
   ]
  },
  {
   "cell_type": "code",
   "execution_count": 16,
   "id": "96d2fca3",
   "metadata": {},
   "outputs": [],
   "source": [
    "df['engine'] = df.engine.str.split().str[0].astype(float) # remove CC from engine and convert it to float"
   ]
  },
  {
   "cell_type": "code",
   "execution_count": 17,
   "id": "253003d5",
   "metadata": {},
   "outputs": [
    {
     "data": {
      "text/plain": [
       "0       1248.0\n",
       "1       1498.0\n",
       "2       1497.0\n",
       "3       1396.0\n",
       "4       1298.0\n",
       "         ...  \n",
       "8123    1197.0\n",
       "8124    1493.0\n",
       "8125    1248.0\n",
       "8126    1396.0\n",
       "8127    1396.0\n",
       "Name: engine, Length: 8033, dtype: float64"
      ]
     },
     "execution_count": 17,
     "metadata": {},
     "output_type": "execute_result"
    }
   ],
   "source": [
    "df['engine'] # check the modified df['engine']"
   ]
  },
  {
   "cell_type": "markdown",
   "id": "a7f626e3",
   "metadata": {},
   "source": [
    "#### \"Max_power\": As per instruction, remove 'bhp' and convert colum to numerial type "
   ]
  },
  {
   "cell_type": "code",
   "execution_count": 18,
   "id": "08eb39c3",
   "metadata": {},
   "outputs": [],
   "source": [
    "df['max_power'] = df.max_power.str.split().str[0].astype(float) # remove bhp from max_power and convert it to float"
   ]
  },
  {
   "cell_type": "code",
   "execution_count": 19,
   "id": "210ce03c",
   "metadata": {},
   "outputs": [
    {
     "data": {
      "text/plain": [
       "0        74.00\n",
       "1       103.52\n",
       "2        78.00\n",
       "3        90.00\n",
       "4        88.20\n",
       "         ...  \n",
       "8123     82.85\n",
       "8124    110.00\n",
       "8125     73.90\n",
       "8126     70.00\n",
       "8127     70.00\n",
       "Name: max_power, Length: 8033, dtype: float64"
      ]
     },
     "execution_count": 19,
     "metadata": {},
     "output_type": "execute_result"
    }
   ],
   "source": [
    "df['max_power'] #  check the modified df['max_power']"
   ]
  },
  {
   "cell_type": "markdown",
   "id": "5d31fbb4",
   "metadata": {},
   "source": [
    "#### \"Brand\": Takes only the first word and remove the rest"
   ]
  },
  {
   "cell_type": "code",
   "execution_count": 20,
   "id": "a0107c75",
   "metadata": {},
   "outputs": [],
   "source": [
    "df['name'] = df.name.str.split().str[0] # remove the model name and keep only the brand name\n",
    "df.rename(columns={'name': 'brand'}, inplace=True) # rename the column name to brand"
   ]
  },
  {
   "cell_type": "code",
   "execution_count": 21,
   "id": "91047ad6",
   "metadata": {},
   "outputs": [
    {
     "data": {
      "text/html": [
       "<div>\n",
       "<style scoped>\n",
       "    .dataframe tbody tr th:only-of-type {\n",
       "        vertical-align: middle;\n",
       "    }\n",
       "\n",
       "    .dataframe tbody tr th {\n",
       "        vertical-align: top;\n",
       "    }\n",
       "\n",
       "    .dataframe thead th {\n",
       "        text-align: right;\n",
       "    }\n",
       "</style>\n",
       "<table border=\"1\" class=\"dataframe\">\n",
       "  <thead>\n",
       "    <tr style=\"text-align: right;\">\n",
       "      <th></th>\n",
       "      <th>brand</th>\n",
       "      <th>year</th>\n",
       "      <th>selling_price</th>\n",
       "      <th>km_driven</th>\n",
       "      <th>fuel</th>\n",
       "      <th>seller_type</th>\n",
       "      <th>transmission</th>\n",
       "      <th>owner</th>\n",
       "      <th>mileage</th>\n",
       "      <th>engine</th>\n",
       "      <th>max_power</th>\n",
       "      <th>torque</th>\n",
       "      <th>seats</th>\n",
       "    </tr>\n",
       "  </thead>\n",
       "  <tbody>\n",
       "    <tr>\n",
       "      <th>0</th>\n",
       "      <td>Maruti</td>\n",
       "      <td>2014</td>\n",
       "      <td>450000</td>\n",
       "      <td>145500</td>\n",
       "      <td>Diesel</td>\n",
       "      <td>Individual</td>\n",
       "      <td>Manual</td>\n",
       "      <td>1</td>\n",
       "      <td>23.40</td>\n",
       "      <td>1248.0</td>\n",
       "      <td>74.00</td>\n",
       "      <td>190Nm@ 2000rpm</td>\n",
       "      <td>5.0</td>\n",
       "    </tr>\n",
       "    <tr>\n",
       "      <th>1</th>\n",
       "      <td>Skoda</td>\n",
       "      <td>2014</td>\n",
       "      <td>370000</td>\n",
       "      <td>120000</td>\n",
       "      <td>Diesel</td>\n",
       "      <td>Individual</td>\n",
       "      <td>Manual</td>\n",
       "      <td>2</td>\n",
       "      <td>21.14</td>\n",
       "      <td>1498.0</td>\n",
       "      <td>103.52</td>\n",
       "      <td>250Nm@ 1500-2500rpm</td>\n",
       "      <td>5.0</td>\n",
       "    </tr>\n",
       "    <tr>\n",
       "      <th>2</th>\n",
       "      <td>Honda</td>\n",
       "      <td>2006</td>\n",
       "      <td>158000</td>\n",
       "      <td>140000</td>\n",
       "      <td>Petrol</td>\n",
       "      <td>Individual</td>\n",
       "      <td>Manual</td>\n",
       "      <td>3</td>\n",
       "      <td>17.70</td>\n",
       "      <td>1497.0</td>\n",
       "      <td>78.00</td>\n",
       "      <td>12.7@ 2,700(kgm@ rpm)</td>\n",
       "      <td>5.0</td>\n",
       "    </tr>\n",
       "    <tr>\n",
       "      <th>3</th>\n",
       "      <td>Hyundai</td>\n",
       "      <td>2010</td>\n",
       "      <td>225000</td>\n",
       "      <td>127000</td>\n",
       "      <td>Diesel</td>\n",
       "      <td>Individual</td>\n",
       "      <td>Manual</td>\n",
       "      <td>1</td>\n",
       "      <td>23.00</td>\n",
       "      <td>1396.0</td>\n",
       "      <td>90.00</td>\n",
       "      <td>22.4 kgm at 1750-2750rpm</td>\n",
       "      <td>5.0</td>\n",
       "    </tr>\n",
       "    <tr>\n",
       "      <th>4</th>\n",
       "      <td>Maruti</td>\n",
       "      <td>2007</td>\n",
       "      <td>130000</td>\n",
       "      <td>120000</td>\n",
       "      <td>Petrol</td>\n",
       "      <td>Individual</td>\n",
       "      <td>Manual</td>\n",
       "      <td>1</td>\n",
       "      <td>16.10</td>\n",
       "      <td>1298.0</td>\n",
       "      <td>88.20</td>\n",
       "      <td>11.5@ 4,500(kgm@ rpm)</td>\n",
       "      <td>5.0</td>\n",
       "    </tr>\n",
       "    <tr>\n",
       "      <th>...</th>\n",
       "      <td>...</td>\n",
       "      <td>...</td>\n",
       "      <td>...</td>\n",
       "      <td>...</td>\n",
       "      <td>...</td>\n",
       "      <td>...</td>\n",
       "      <td>...</td>\n",
       "      <td>...</td>\n",
       "      <td>...</td>\n",
       "      <td>...</td>\n",
       "      <td>...</td>\n",
       "      <td>...</td>\n",
       "      <td>...</td>\n",
       "    </tr>\n",
       "    <tr>\n",
       "      <th>8123</th>\n",
       "      <td>Hyundai</td>\n",
       "      <td>2013</td>\n",
       "      <td>320000</td>\n",
       "      <td>110000</td>\n",
       "      <td>Petrol</td>\n",
       "      <td>Individual</td>\n",
       "      <td>Manual</td>\n",
       "      <td>1</td>\n",
       "      <td>18.50</td>\n",
       "      <td>1197.0</td>\n",
       "      <td>82.85</td>\n",
       "      <td>113.7Nm@ 4000rpm</td>\n",
       "      <td>5.0</td>\n",
       "    </tr>\n",
       "    <tr>\n",
       "      <th>8124</th>\n",
       "      <td>Hyundai</td>\n",
       "      <td>2007</td>\n",
       "      <td>135000</td>\n",
       "      <td>119000</td>\n",
       "      <td>Diesel</td>\n",
       "      <td>Individual</td>\n",
       "      <td>Manual</td>\n",
       "      <td>4</td>\n",
       "      <td>16.80</td>\n",
       "      <td>1493.0</td>\n",
       "      <td>110.00</td>\n",
       "      <td>24@ 1,900-2,750(kgm@ rpm)</td>\n",
       "      <td>5.0</td>\n",
       "    </tr>\n",
       "    <tr>\n",
       "      <th>8125</th>\n",
       "      <td>Maruti</td>\n",
       "      <td>2009</td>\n",
       "      <td>382000</td>\n",
       "      <td>120000</td>\n",
       "      <td>Diesel</td>\n",
       "      <td>Individual</td>\n",
       "      <td>Manual</td>\n",
       "      <td>1</td>\n",
       "      <td>19.30</td>\n",
       "      <td>1248.0</td>\n",
       "      <td>73.90</td>\n",
       "      <td>190Nm@ 2000rpm</td>\n",
       "      <td>5.0</td>\n",
       "    </tr>\n",
       "    <tr>\n",
       "      <th>8126</th>\n",
       "      <td>Tata</td>\n",
       "      <td>2013</td>\n",
       "      <td>290000</td>\n",
       "      <td>25000</td>\n",
       "      <td>Diesel</td>\n",
       "      <td>Individual</td>\n",
       "      <td>Manual</td>\n",
       "      <td>1</td>\n",
       "      <td>23.57</td>\n",
       "      <td>1396.0</td>\n",
       "      <td>70.00</td>\n",
       "      <td>140Nm@ 1800-3000rpm</td>\n",
       "      <td>5.0</td>\n",
       "    </tr>\n",
       "    <tr>\n",
       "      <th>8127</th>\n",
       "      <td>Tata</td>\n",
       "      <td>2013</td>\n",
       "      <td>290000</td>\n",
       "      <td>25000</td>\n",
       "      <td>Diesel</td>\n",
       "      <td>Individual</td>\n",
       "      <td>Manual</td>\n",
       "      <td>1</td>\n",
       "      <td>23.57</td>\n",
       "      <td>1396.0</td>\n",
       "      <td>70.00</td>\n",
       "      <td>140Nm@ 1800-3000rpm</td>\n",
       "      <td>5.0</td>\n",
       "    </tr>\n",
       "  </tbody>\n",
       "</table>\n",
       "<p>8033 rows × 13 columns</p>\n",
       "</div>"
      ],
      "text/plain": [
       "        brand  year  selling_price  km_driven    fuel seller_type  \\\n",
       "0      Maruti  2014         450000     145500  Diesel  Individual   \n",
       "1       Skoda  2014         370000     120000  Diesel  Individual   \n",
       "2       Honda  2006         158000     140000  Petrol  Individual   \n",
       "3     Hyundai  2010         225000     127000  Diesel  Individual   \n",
       "4      Maruti  2007         130000     120000  Petrol  Individual   \n",
       "...       ...   ...            ...        ...     ...         ...   \n",
       "8123  Hyundai  2013         320000     110000  Petrol  Individual   \n",
       "8124  Hyundai  2007         135000     119000  Diesel  Individual   \n",
       "8125   Maruti  2009         382000     120000  Diesel  Individual   \n",
       "8126     Tata  2013         290000      25000  Diesel  Individual   \n",
       "8127     Tata  2013         290000      25000  Diesel  Individual   \n",
       "\n",
       "     transmission  owner  mileage  engine  max_power  \\\n",
       "0          Manual      1    23.40  1248.0      74.00   \n",
       "1          Manual      2    21.14  1498.0     103.52   \n",
       "2          Manual      3    17.70  1497.0      78.00   \n",
       "3          Manual      1    23.00  1396.0      90.00   \n",
       "4          Manual      1    16.10  1298.0      88.20   \n",
       "...           ...    ...      ...     ...        ...   \n",
       "8123       Manual      1    18.50  1197.0      82.85   \n",
       "8124       Manual      4    16.80  1493.0     110.00   \n",
       "8125       Manual      1    19.30  1248.0      73.90   \n",
       "8126       Manual      1    23.57  1396.0      70.00   \n",
       "8127       Manual      1    23.57  1396.0      70.00   \n",
       "\n",
       "                         torque  seats  \n",
       "0                190Nm@ 2000rpm    5.0  \n",
       "1           250Nm@ 1500-2500rpm    5.0  \n",
       "2         12.7@ 2,700(kgm@ rpm)    5.0  \n",
       "3      22.4 kgm at 1750-2750rpm    5.0  \n",
       "4         11.5@ 4,500(kgm@ rpm)    5.0  \n",
       "...                         ...    ...  \n",
       "8123           113.7Nm@ 4000rpm    5.0  \n",
       "8124  24@ 1,900-2,750(kgm@ rpm)    5.0  \n",
       "8125             190Nm@ 2000rpm    5.0  \n",
       "8126        140Nm@ 1800-3000rpm    5.0  \n",
       "8127        140Nm@ 1800-3000rpm    5.0  \n",
       "\n",
       "[8033 rows x 13 columns]"
      ]
     },
     "execution_count": 21,
     "metadata": {},
     "output_type": "execute_result"
    }
   ],
   "source": [
    "df"
   ]
  },
  {
   "cell_type": "markdown",
   "id": "6291a26f",
   "metadata": {},
   "source": [
    "#### \"Torque\": Drops this feature according to the instruction"
   ]
  },
  {
   "cell_type": "code",
   "execution_count": 22,
   "id": "68a6bc29",
   "metadata": {},
   "outputs": [],
   "source": [
    "df = df.drop(['torque'], axis=1) # drop the torque column"
   ]
  },
  {
   "cell_type": "markdown",
   "id": "f6a0eb67",
   "metadata": {},
   "source": [
    "#### \"Test Drive Cars\": Delete all samples related to this becuase they are very expansive and we don't wnat to involve this"
   ]
  },
  {
   "cell_type": "code",
   "execution_count": 23,
   "id": "deb40c21",
   "metadata": {},
   "outputs": [
    {
     "data": {
      "text/plain": [
       "array([1, 2, 3, 4, 5])"
      ]
     },
     "execution_count": 23,
     "metadata": {},
     "output_type": "execute_result"
    }
   ],
   "source": [
    "df['owner'].unique() # check the original df['owner']"
   ]
  },
  {
   "cell_type": "code",
   "execution_count": 24,
   "id": "4e4d9e27",
   "metadata": {},
   "outputs": [
    {
     "data": {
      "text/html": [
       "<div>\n",
       "<style scoped>\n",
       "    .dataframe tbody tr th:only-of-type {\n",
       "        vertical-align: middle;\n",
       "    }\n",
       "\n",
       "    .dataframe tbody tr th {\n",
       "        vertical-align: top;\n",
       "    }\n",
       "\n",
       "    .dataframe thead th {\n",
       "        text-align: right;\n",
       "    }\n",
       "</style>\n",
       "<table border=\"1\" class=\"dataframe\">\n",
       "  <thead>\n",
       "    <tr style=\"text-align: right;\">\n",
       "      <th></th>\n",
       "      <th>brand</th>\n",
       "      <th>year</th>\n",
       "      <th>selling_price</th>\n",
       "      <th>km_driven</th>\n",
       "      <th>fuel</th>\n",
       "      <th>seller_type</th>\n",
       "      <th>transmission</th>\n",
       "      <th>owner</th>\n",
       "      <th>mileage</th>\n",
       "      <th>engine</th>\n",
       "      <th>max_power</th>\n",
       "      <th>seats</th>\n",
       "    </tr>\n",
       "  </thead>\n",
       "  <tbody>\n",
       "    <tr>\n",
       "      <th>4383</th>\n",
       "      <td>Volkswagen</td>\n",
       "      <td>2019</td>\n",
       "      <td>1350000</td>\n",
       "      <td>5400</td>\n",
       "      <td>Diesel</td>\n",
       "      <td>Dealer</td>\n",
       "      <td>Manual</td>\n",
       "      <td>5</td>\n",
       "      <td>22.27</td>\n",
       "      <td>1498.0</td>\n",
       "      <td>108.60</td>\n",
       "      <td>5.0</td>\n",
       "    </tr>\n",
       "    <tr>\n",
       "      <th>4950</th>\n",
       "      <td>Audi</td>\n",
       "      <td>2019</td>\n",
       "      <td>6223000</td>\n",
       "      <td>7800</td>\n",
       "      <td>Petrol</td>\n",
       "      <td>Dealer</td>\n",
       "      <td>Automatic</td>\n",
       "      <td>5</td>\n",
       "      <td>15.26</td>\n",
       "      <td>1798.0</td>\n",
       "      <td>187.74</td>\n",
       "      <td>5.0</td>\n",
       "    </tr>\n",
       "    <tr>\n",
       "      <th>4951</th>\n",
       "      <td>Audi</td>\n",
       "      <td>2019</td>\n",
       "      <td>5923000</td>\n",
       "      <td>11500</td>\n",
       "      <td>Petrol</td>\n",
       "      <td>Dealer</td>\n",
       "      <td>Automatic</td>\n",
       "      <td>5</td>\n",
       "      <td>15.26</td>\n",
       "      <td>1798.0</td>\n",
       "      <td>187.74</td>\n",
       "      <td>5.0</td>\n",
       "    </tr>\n",
       "    <tr>\n",
       "      <th>4952</th>\n",
       "      <td>Audi</td>\n",
       "      <td>2019</td>\n",
       "      <td>6523000</td>\n",
       "      <td>23600</td>\n",
       "      <td>Petrol</td>\n",
       "      <td>Dealer</td>\n",
       "      <td>Automatic</td>\n",
       "      <td>5</td>\n",
       "      <td>15.26</td>\n",
       "      <td>1798.0</td>\n",
       "      <td>187.74</td>\n",
       "      <td>5.0</td>\n",
       "    </tr>\n",
       "    <tr>\n",
       "      <th>6220</th>\n",
       "      <td>Honda</td>\n",
       "      <td>2019</td>\n",
       "      <td>2000000</td>\n",
       "      <td>24857</td>\n",
       "      <td>Petrol</td>\n",
       "      <td>Dealer</td>\n",
       "      <td>Automatic</td>\n",
       "      <td>5</td>\n",
       "      <td>16.50</td>\n",
       "      <td>1799.0</td>\n",
       "      <td>139.46</td>\n",
       "      <td>5.0</td>\n",
       "    </tr>\n",
       "  </tbody>\n",
       "</table>\n",
       "</div>"
      ],
      "text/plain": [
       "           brand  year  selling_price  km_driven    fuel seller_type  \\\n",
       "4383  Volkswagen  2019        1350000       5400  Diesel      Dealer   \n",
       "4950        Audi  2019        6223000       7800  Petrol      Dealer   \n",
       "4951        Audi  2019        5923000      11500  Petrol      Dealer   \n",
       "4952        Audi  2019        6523000      23600  Petrol      Dealer   \n",
       "6220       Honda  2019        2000000      24857  Petrol      Dealer   \n",
       "\n",
       "     transmission  owner  mileage  engine  max_power  seats  \n",
       "4383       Manual      5    22.27  1498.0     108.60    5.0  \n",
       "4950    Automatic      5    15.26  1798.0     187.74    5.0  \n",
       "4951    Automatic      5    15.26  1798.0     187.74    5.0  \n",
       "4952    Automatic      5    15.26  1798.0     187.74    5.0  \n",
       "6220    Automatic      5    16.50  1799.0     139.46    5.0  "
      ]
     },
     "execution_count": 24,
     "metadata": {},
     "output_type": "execute_result"
    }
   ],
   "source": [
    "df[df['owner'] == 5] # check the rows with owner = 5"
   ]
  },
  {
   "cell_type": "code",
   "execution_count": 25,
   "id": "6101159b",
   "metadata": {},
   "outputs": [],
   "source": [
    "# Since they are significantly large values, so we can drop them\n",
    "\n",
    "df = df[df.owner != 5]"
   ]
  },
  {
   "cell_type": "code",
   "execution_count": 26,
   "id": "23e30488",
   "metadata": {},
   "outputs": [
    {
     "data": {
      "text/plain": [
       "array([1, 2, 3, 4])"
      ]
     },
     "execution_count": 26,
     "metadata": {},
     "output_type": "execute_result"
    }
   ],
   "source": [
    "df['owner'].unique() # check the modified df['owner']"
   ]
  },
  {
   "attachments": {},
   "cell_type": "markdown",
   "id": "f5d419fc",
   "metadata": {},
   "source": [
    "### 2.1 Univariate analyis\n",
    "\n",
    "Single variable exploratory data anlaysis"
   ]
  },
  {
   "cell_type": "code",
   "execution_count": 27,
   "id": "11f3bfe2",
   "metadata": {},
   "outputs": [
    {
     "data": {
      "text/html": [
       "<div>\n",
       "<style scoped>\n",
       "    .dataframe tbody tr th:only-of-type {\n",
       "        vertical-align: middle;\n",
       "    }\n",
       "\n",
       "    .dataframe tbody tr th {\n",
       "        vertical-align: top;\n",
       "    }\n",
       "\n",
       "    .dataframe thead th {\n",
       "        text-align: right;\n",
       "    }\n",
       "</style>\n",
       "<table border=\"1\" class=\"dataframe\">\n",
       "  <thead>\n",
       "    <tr style=\"text-align: right;\">\n",
       "      <th></th>\n",
       "      <th>brand</th>\n",
       "      <th>year</th>\n",
       "      <th>selling_price</th>\n",
       "      <th>km_driven</th>\n",
       "      <th>fuel</th>\n",
       "      <th>seller_type</th>\n",
       "      <th>transmission</th>\n",
       "      <th>owner</th>\n",
       "      <th>mileage</th>\n",
       "      <th>engine</th>\n",
       "      <th>max_power</th>\n",
       "      <th>seats</th>\n",
       "    </tr>\n",
       "  </thead>\n",
       "  <tbody>\n",
       "    <tr>\n",
       "      <th>0</th>\n",
       "      <td>Maruti</td>\n",
       "      <td>2014</td>\n",
       "      <td>450000</td>\n",
       "      <td>145500</td>\n",
       "      <td>Diesel</td>\n",
       "      <td>Individual</td>\n",
       "      <td>Manual</td>\n",
       "      <td>1</td>\n",
       "      <td>23.40</td>\n",
       "      <td>1248.0</td>\n",
       "      <td>74.00</td>\n",
       "      <td>5.0</td>\n",
       "    </tr>\n",
       "    <tr>\n",
       "      <th>1</th>\n",
       "      <td>Skoda</td>\n",
       "      <td>2014</td>\n",
       "      <td>370000</td>\n",
       "      <td>120000</td>\n",
       "      <td>Diesel</td>\n",
       "      <td>Individual</td>\n",
       "      <td>Manual</td>\n",
       "      <td>2</td>\n",
       "      <td>21.14</td>\n",
       "      <td>1498.0</td>\n",
       "      <td>103.52</td>\n",
       "      <td>5.0</td>\n",
       "    </tr>\n",
       "    <tr>\n",
       "      <th>2</th>\n",
       "      <td>Honda</td>\n",
       "      <td>2006</td>\n",
       "      <td>158000</td>\n",
       "      <td>140000</td>\n",
       "      <td>Petrol</td>\n",
       "      <td>Individual</td>\n",
       "      <td>Manual</td>\n",
       "      <td>3</td>\n",
       "      <td>17.70</td>\n",
       "      <td>1497.0</td>\n",
       "      <td>78.00</td>\n",
       "      <td>5.0</td>\n",
       "    </tr>\n",
       "    <tr>\n",
       "      <th>3</th>\n",
       "      <td>Hyundai</td>\n",
       "      <td>2010</td>\n",
       "      <td>225000</td>\n",
       "      <td>127000</td>\n",
       "      <td>Diesel</td>\n",
       "      <td>Individual</td>\n",
       "      <td>Manual</td>\n",
       "      <td>1</td>\n",
       "      <td>23.00</td>\n",
       "      <td>1396.0</td>\n",
       "      <td>90.00</td>\n",
       "      <td>5.0</td>\n",
       "    </tr>\n",
       "    <tr>\n",
       "      <th>4</th>\n",
       "      <td>Maruti</td>\n",
       "      <td>2007</td>\n",
       "      <td>130000</td>\n",
       "      <td>120000</td>\n",
       "      <td>Petrol</td>\n",
       "      <td>Individual</td>\n",
       "      <td>Manual</td>\n",
       "      <td>1</td>\n",
       "      <td>16.10</td>\n",
       "      <td>1298.0</td>\n",
       "      <td>88.20</td>\n",
       "      <td>5.0</td>\n",
       "    </tr>\n",
       "  </tbody>\n",
       "</table>\n",
       "</div>"
      ],
      "text/plain": [
       "     brand  year  selling_price  km_driven    fuel seller_type transmission  \\\n",
       "0   Maruti  2014         450000     145500  Diesel  Individual       Manual   \n",
       "1    Skoda  2014         370000     120000  Diesel  Individual       Manual   \n",
       "2    Honda  2006         158000     140000  Petrol  Individual       Manual   \n",
       "3  Hyundai  2010         225000     127000  Diesel  Individual       Manual   \n",
       "4   Maruti  2007         130000     120000  Petrol  Individual       Manual   \n",
       "\n",
       "   owner  mileage  engine  max_power  seats  \n",
       "0      1    23.40  1248.0      74.00    5.0  \n",
       "1      2    21.14  1498.0     103.52    5.0  \n",
       "2      3    17.70  1497.0      78.00    5.0  \n",
       "3      1    23.00  1396.0      90.00    5.0  \n",
       "4      1    16.10  1298.0      88.20    5.0  "
      ]
     },
     "execution_count": 27,
     "metadata": {},
     "output_type": "execute_result"
    }
   ],
   "source": [
    "df.head()"
   ]
  },
  {
   "attachments": {},
   "cell_type": "markdown",
   "id": "bf616b09",
   "metadata": {},
   "source": [
    "#### Countplot"
   ]
  },
  {
   "cell_type": "code",
   "execution_count": 28,
   "id": "65fae5ff",
   "metadata": {},
   "outputs": [],
   "source": [
    "## Countplot - Best for categorical variables to understand frequency:\n",
    "## In this case, I will be analyzed 'fuel, 'seller_type', 'transmission', 'owner', 'seats' features using countplots"
   ]
  },
  {
   "cell_type": "code",
   "execution_count": 29,
   "id": "caf2c591",
   "metadata": {},
   "outputs": [
    {
     "data": {
      "text/plain": [
       "<Axes: xlabel='fuel', ylabel='count'>"
      ]
     },
     "execution_count": 29,
     "metadata": {},
     "output_type": "execute_result"
    },
    {
     "data": {
      "image/png": "[encoded data removed]",
      "text/plain": [
       "<Figure size 640x480 with 1 Axes>"
      ]
     },
     "metadata": {},
     "output_type": "display_data"
    }
   ],
   "source": [
    "# Shows proportion of Diesel vs Petrol cars and it seems that they are almost equal\n",
    "sns.countplot(data = df, x = 'fuel')"
   ]
  },
  {
   "cell_type": "code",
   "execution_count": 30,
   "id": "aab152a6",
   "metadata": {},
   "outputs": [
    {
     "data": {
      "text/plain": [
       "<Axes: xlabel='seller_type', ylabel='count'>"
      ]
     },
     "execution_count": 30,
     "metadata": {},
     "output_type": "execute_result"
    },
    {
     "data": {
      "image/png": "[encoded data removed]",
      "text/plain": [
       "<Figure size 640x480 with 1 Axes>"
      ]
     },
     "metadata": {},
     "output_type": "display_data"
    }
   ],
   "source": [
    "# We can see the individual sellers are more dominant than the other two types\n",
    "sns.countplot(data = df, x = 'seller_type') "
   ]
  },
  {
   "cell_type": "code",
   "execution_count": 31,
   "id": "4a18d751",
   "metadata": {},
   "outputs": [
    {
     "data": {
      "text/plain": [
       "<Axes: xlabel='transmission', ylabel='count'>"
      ]
     },
     "execution_count": 31,
     "metadata": {},
     "output_type": "execute_result"
    },
    {
     "data": {
      "image/png": "[encoded data removed]",
      "text/plain": [
       "<Figure size 640x480 with 1 Axes>"
      ]
     },
     "metadata": {},
     "output_type": "display_data"
    }
   ],
   "source": [
    "# we can see that manual cars are more prefrable than automatic cars in the market\n",
    "sns.countplot(data = df, x = 'transmission') "
   ]
  },
  {
   "cell_type": "code",
   "execution_count": 32,
   "id": "c33f313c",
   "metadata": {},
   "outputs": [
    {
     "data": {
      "text/plain": [
       "<Axes: xlabel='seats', ylabel='count'>"
      ]
     },
     "execution_count": 32,
     "metadata": {},
     "output_type": "execute_result"
    },
    {
     "data": {
      "image/png": "[encoded data removed]",
      "text/plain": [
       "<Figure size 640x480 with 1 Axes>"
      ]
     },
     "metadata": {},
     "output_type": "display_data"
    }
   ],
   "source": [
    "# we can see that most cars have 5 seats\n",
    "sns.countplot(data = df, x = 'seats')"
   ]
  },
  {
   "cell_type": "code",
   "execution_count": 33,
   "id": "59095915",
   "metadata": {},
   "outputs": [
    {
     "data": {
      "text/plain": [
       "<Axes: xlabel='owner', ylabel='count'>"
      ]
     },
     "execution_count": 33,
     "metadata": {},
     "output_type": "execute_result"
    },
    {
     "data": {
      "image/png": "[encoded data removed]",
      "text/plain": [
       "<Figure size 640x480 with 1 Axes>"
      ]
     },
     "metadata": {},
     "output_type": "display_data"
    }
   ],
   "source": [
    "# we can see that most cars are first owner\n",
    "sns.countplot(data = df, x = 'owner')"
   ]
  },
  {
   "cell_type": "markdown",
   "id": "6601da83",
   "metadata": {},
   "source": [
    "##### Insights: As per above analysis, we can conclude that \n",
    " - The market is balanced between disel and pertol cars\n",
    " - Buyers preferred manual cars from indiviual sellers\n",
    " - Cars with 5 seats are dominant and First-owners cars are most wanted"
   ]
  },
  {
   "attachments": {},
   "cell_type": "markdown",
   "id": "239be0e2",
   "metadata": {},
   "source": [
    "#### Distribution plot"
   ]
  },
  {
   "cell_type": "code",
   "execution_count": 34,
   "id": "93470dae",
   "metadata": {},
   "outputs": [],
   "source": [
    "# Distribution Plot - Best for continuous variables to understand their spread and patterns\n",
    "# In this case, I will be analyzed 'km_driven', 'mileage', 'engine', 'max_power' features using distribution plots"
   ]
  },
  {
   "cell_type": "code",
   "execution_count": 35,
   "id": "1fdedbe4",
   "metadata": {},
   "outputs": [
    {
     "data": {
      "text/plain": [
       "<seaborn.axisgrid.FacetGrid at 0x748bc94ca020>"
      ]
     },
     "execution_count": 35,
     "metadata": {},
     "output_type": "execute_result"
    },
    {
     "data": {
      "image/png": "[encoded data removed]",
      "text/plain": [
       "<Figure size 500x500 with 1 Axes>"
      ]
     },
     "metadata": {},
     "output_type": "display_data"
    }
   ],
   "source": [
    "sns.displot(data = df, x = 'km_driven') # km_driven is right skewed"
   ]
  },
  {
   "cell_type": "code",
   "execution_count": 36,
   "id": "d363b926",
   "metadata": {},
   "outputs": [
    {
     "data": {
      "text/plain": [
       "<seaborn.axisgrid.FacetGrid at 0x748bc99a6c50>"
      ]
     },
     "execution_count": 36,
     "metadata": {},
     "output_type": "execute_result"
    },
    {
     "data": {
      "image/png": "[encoded data removed]",
      "text/plain": [
       "<Figure size 500x500 with 1 Axes>"
      ]
     },
     "metadata": {},
     "output_type": "display_data"
    }
   ],
   "source": [
    "sns.displot(data = df, x = 'year') # year is left skewed"
   ]
  },
  {
   "cell_type": "code",
   "execution_count": 37,
   "id": "85b47b12",
   "metadata": {},
   "outputs": [
    {
     "data": {
      "text/plain": [
       "<seaborn.axisgrid.FacetGrid at 0x748bc91805e0>"
      ]
     },
     "execution_count": 37,
     "metadata": {},
     "output_type": "execute_result"
    },
    {
     "data": {
      "image/png": "[encoded data removed]",
      "text/plain": [
       "<Figure size 500x500 with 1 Axes>"
      ]
     },
     "metadata": {},
     "output_type": "display_data"
    }
   ],
   "source": [
    "sns.displot(data = df, x = 'mileage') # mileage is normally distrubuted"
   ]
  },
  {
   "cell_type": "code",
   "execution_count": 38,
   "id": "3805eab6",
   "metadata": {},
   "outputs": [
    {
     "data": {
      "text/plain": [
       "<seaborn.axisgrid.FacetGrid at 0x748bc9167a90>"
      ]
     },
     "execution_count": 38,
     "metadata": {},
     "output_type": "execute_result"
    },
    {
     "data": {
      "image/png": "[encoded data removed]",
      "text/plain": [
       "<Figure size 500x500 with 1 Axes>"
      ]
     },
     "metadata": {},
     "output_type": "display_data"
    }
   ],
   "source": [
    "sns.displot(data = df, x = 'max_power') # max_power is left skeweddf"
   ]
  },
  {
   "cell_type": "code",
   "execution_count": 39,
   "id": "40f0d1be",
   "metadata": {},
   "outputs": [
    {
     "data": {
      "text/plain": [
       "<seaborn.axisgrid.FacetGrid at 0x748bc8fa8700>"
      ]
     },
     "execution_count": 39,
     "metadata": {},
     "output_type": "execute_result"
    },
    {
     "data": {
      "image/png": "[encoded data removed]",
      "text/plain": [
       "<Figure size 500x500 with 1 Axes>"
      ]
     },
     "metadata": {},
     "output_type": "display_data"
    }
   ],
   "source": [
    "sns.displot(data = df, x = 'engine') # engine is left skewed"
   ]
  },
  {
   "attachments": {},
   "cell_type": "markdown",
   "id": "d1354e62",
   "metadata": {},
   "source": [
    "### 2.2 Multivariate analysis\n",
    "\n",
    "Multiple variable exploratory data analysis"
   ]
  },
  {
   "attachments": {},
   "cell_type": "markdown",
   "id": "9bdd851e",
   "metadata": {},
   "source": [
    "#### Boxplot"
   ]
  },
  {
   "cell_type": "code",
   "execution_count": 40,
   "id": "c7377f0e",
   "metadata": {},
   "outputs": [
    {
     "data": {
      "text/html": [
       "<div>\n",
       "<style scoped>\n",
       "    .dataframe tbody tr th:only-of-type {\n",
       "        vertical-align: middle;\n",
       "    }\n",
       "\n",
       "    .dataframe tbody tr th {\n",
       "        vertical-align: top;\n",
       "    }\n",
       "\n",
       "    .dataframe thead th {\n",
       "        text-align: right;\n",
       "    }\n",
       "</style>\n",
       "<table border=\"1\" class=\"dataframe\">\n",
       "  <thead>\n",
       "    <tr style=\"text-align: right;\">\n",
       "      <th></th>\n",
       "      <th>brand</th>\n",
       "      <th>year</th>\n",
       "      <th>selling_price</th>\n",
       "      <th>km_driven</th>\n",
       "      <th>fuel</th>\n",
       "      <th>seller_type</th>\n",
       "      <th>transmission</th>\n",
       "      <th>owner</th>\n",
       "      <th>mileage</th>\n",
       "      <th>engine</th>\n",
       "      <th>max_power</th>\n",
       "      <th>seats</th>\n",
       "    </tr>\n",
       "  </thead>\n",
       "  <tbody>\n",
       "    <tr>\n",
       "      <th>0</th>\n",
       "      <td>Maruti</td>\n",
       "      <td>2014</td>\n",
       "      <td>450000</td>\n",
       "      <td>145500</td>\n",
       "      <td>Diesel</td>\n",
       "      <td>Individual</td>\n",
       "      <td>Manual</td>\n",
       "      <td>1</td>\n",
       "      <td>23.40</td>\n",
       "      <td>1248.0</td>\n",
       "      <td>74.00</td>\n",
       "      <td>5.0</td>\n",
       "    </tr>\n",
       "    <tr>\n",
       "      <th>1</th>\n",
       "      <td>Skoda</td>\n",
       "      <td>2014</td>\n",
       "      <td>370000</td>\n",
       "      <td>120000</td>\n",
       "      <td>Diesel</td>\n",
       "      <td>Individual</td>\n",
       "      <td>Manual</td>\n",
       "      <td>2</td>\n",
       "      <td>21.14</td>\n",
       "      <td>1498.0</td>\n",
       "      <td>103.52</td>\n",
       "      <td>5.0</td>\n",
       "    </tr>\n",
       "    <tr>\n",
       "      <th>2</th>\n",
       "      <td>Honda</td>\n",
       "      <td>2006</td>\n",
       "      <td>158000</td>\n",
       "      <td>140000</td>\n",
       "      <td>Petrol</td>\n",
       "      <td>Individual</td>\n",
       "      <td>Manual</td>\n",
       "      <td>3</td>\n",
       "      <td>17.70</td>\n",
       "      <td>1497.0</td>\n",
       "      <td>78.00</td>\n",
       "      <td>5.0</td>\n",
       "    </tr>\n",
       "    <tr>\n",
       "      <th>3</th>\n",
       "      <td>Hyundai</td>\n",
       "      <td>2010</td>\n",
       "      <td>225000</td>\n",
       "      <td>127000</td>\n",
       "      <td>Diesel</td>\n",
       "      <td>Individual</td>\n",
       "      <td>Manual</td>\n",
       "      <td>1</td>\n",
       "      <td>23.00</td>\n",
       "      <td>1396.0</td>\n",
       "      <td>90.00</td>\n",
       "      <td>5.0</td>\n",
       "    </tr>\n",
       "    <tr>\n",
       "      <th>4</th>\n",
       "      <td>Maruti</td>\n",
       "      <td>2007</td>\n",
       "      <td>130000</td>\n",
       "      <td>120000</td>\n",
       "      <td>Petrol</td>\n",
       "      <td>Individual</td>\n",
       "      <td>Manual</td>\n",
       "      <td>1</td>\n",
       "      <td>16.10</td>\n",
       "      <td>1298.0</td>\n",
       "      <td>88.20</td>\n",
       "      <td>5.0</td>\n",
       "    </tr>\n",
       "    <tr>\n",
       "      <th>...</th>\n",
       "      <td>...</td>\n",
       "      <td>...</td>\n",
       "      <td>...</td>\n",
       "      <td>...</td>\n",
       "      <td>...</td>\n",
       "      <td>...</td>\n",
       "      <td>...</td>\n",
       "      <td>...</td>\n",
       "      <td>...</td>\n",
       "      <td>...</td>\n",
       "      <td>...</td>\n",
       "      <td>...</td>\n",
       "    </tr>\n",
       "    <tr>\n",
       "      <th>8123</th>\n",
       "      <td>Hyundai</td>\n",
       "      <td>2013</td>\n",
       "      <td>320000</td>\n",
       "      <td>110000</td>\n",
       "      <td>Petrol</td>\n",
       "      <td>Individual</td>\n",
       "      <td>Manual</td>\n",
       "      <td>1</td>\n",
       "      <td>18.50</td>\n",
       "      <td>1197.0</td>\n",
       "      <td>82.85</td>\n",
       "      <td>5.0</td>\n",
       "    </tr>\n",
       "    <tr>\n",
       "      <th>8124</th>\n",
       "      <td>Hyundai</td>\n",
       "      <td>2007</td>\n",
       "      <td>135000</td>\n",
       "      <td>119000</td>\n",
       "      <td>Diesel</td>\n",
       "      <td>Individual</td>\n",
       "      <td>Manual</td>\n",
       "      <td>4</td>\n",
       "      <td>16.80</td>\n",
       "      <td>1493.0</td>\n",
       "      <td>110.00</td>\n",
       "      <td>5.0</td>\n",
       "    </tr>\n",
       "    <tr>\n",
       "      <th>8125</th>\n",
       "      <td>Maruti</td>\n",
       "      <td>2009</td>\n",
       "      <td>382000</td>\n",
       "      <td>120000</td>\n",
       "      <td>Diesel</td>\n",
       "      <td>Individual</td>\n",
       "      <td>Manual</td>\n",
       "      <td>1</td>\n",
       "      <td>19.30</td>\n",
       "      <td>1248.0</td>\n",
       "      <td>73.90</td>\n",
       "      <td>5.0</td>\n",
       "    </tr>\n",
       "    <tr>\n",
       "      <th>8126</th>\n",
       "      <td>Tata</td>\n",
       "      <td>2013</td>\n",
       "      <td>290000</td>\n",
       "      <td>25000</td>\n",
       "      <td>Diesel</td>\n",
       "      <td>Individual</td>\n",
       "      <td>Manual</td>\n",
       "      <td>1</td>\n",
       "      <td>23.57</td>\n",
       "      <td>1396.0</td>\n",
       "      <td>70.00</td>\n",
       "      <td>5.0</td>\n",
       "    </tr>\n",
       "    <tr>\n",
       "      <th>8127</th>\n",
       "      <td>Tata</td>\n",
       "      <td>2013</td>\n",
       "      <td>290000</td>\n",
       "      <td>25000</td>\n",
       "      <td>Diesel</td>\n",
       "      <td>Individual</td>\n",
       "      <td>Manual</td>\n",
       "      <td>1</td>\n",
       "      <td>23.57</td>\n",
       "      <td>1396.0</td>\n",
       "      <td>70.00</td>\n",
       "      <td>5.0</td>\n",
       "    </tr>\n",
       "  </tbody>\n",
       "</table>\n",
       "<p>8028 rows × 12 columns</p>\n",
       "</div>"
      ],
      "text/plain": [
       "        brand  year  selling_price  km_driven    fuel seller_type  \\\n",
       "0      Maruti  2014         450000     145500  Diesel  Individual   \n",
       "1       Skoda  2014         370000     120000  Diesel  Individual   \n",
       "2       Honda  2006         158000     140000  Petrol  Individual   \n",
       "3     Hyundai  2010         225000     127000  Diesel  Individual   \n",
       "4      Maruti  2007         130000     120000  Petrol  Individual   \n",
       "...       ...   ...            ...        ...     ...         ...   \n",
       "8123  Hyundai  2013         320000     110000  Petrol  Individual   \n",
       "8124  Hyundai  2007         135000     119000  Diesel  Individual   \n",
       "8125   Maruti  2009         382000     120000  Diesel  Individual   \n",
       "8126     Tata  2013         290000      25000  Diesel  Individual   \n",
       "8127     Tata  2013         290000      25000  Diesel  Individual   \n",
       "\n",
       "     transmission  owner  mileage  engine  max_power  seats  \n",
       "0          Manual      1    23.40  1248.0      74.00    5.0  \n",
       "1          Manual      2    21.14  1498.0     103.52    5.0  \n",
       "2          Manual      3    17.70  1497.0      78.00    5.0  \n",
       "3          Manual      1    23.00  1396.0      90.00    5.0  \n",
       "4          Manual      1    16.10  1298.0      88.20    5.0  \n",
       "...           ...    ...      ...     ...        ...    ...  \n",
       "8123       Manual      1    18.50  1197.0      82.85    5.0  \n",
       "8124       Manual      4    16.80  1493.0     110.00    5.0  \n",
       "8125       Manual      1    19.30  1248.0      73.90    5.0  \n",
       "8126       Manual      1    23.57  1396.0      70.00    5.0  \n",
       "8127       Manual      1    23.57  1396.0      70.00    5.0  \n",
       "\n",
       "[8028 rows x 12 columns]"
      ]
     },
     "execution_count": 40,
     "metadata": {},
     "output_type": "execute_result"
    }
   ],
   "source": [
    "df"
   ]
  },
  {
   "cell_type": "code",
   "execution_count": 41,
   "id": "69fd4986",
   "metadata": {},
   "outputs": [
    {
     "data": {
      "text/plain": [
       "Text(0.5, 0, 'transmission')"
      ]
     },
     "execution_count": 41,
     "metadata": {},
     "output_type": "execute_result"
    },
    {
     "data": {
      "image/png": "[encoded data removed]",
      "text/plain": [
       "<Figure size 640x480 with 1 Axes>"
      ]
     },
     "metadata": {},
     "output_type": "display_data"
    }
   ],
   "source": [
    "# Let's try bar plot on \"Status\"\n",
    "sns.boxplot(x = df['transmission'], y = df['selling_price']);\n",
    "plt.ylabel('selling_price')\n",
    "plt.xlabel('transmission')"
   ]
  },
  {
   "attachments": {},
   "cell_type": "markdown",
   "id": "67889479",
   "metadata": {},
   "source": [
    "#### Scatterplot"
   ]
  },
  {
   "cell_type": "code",
   "execution_count": 42,
   "id": "91d31634",
   "metadata": {},
   "outputs": [
    {
     "data": {
      "text/plain": [
       "<Axes: xlabel='year', ylabel='selling_price'>"
      ]
     },
     "execution_count": 42,
     "metadata": {},
     "output_type": "execute_result"
    },
    {
     "data": {
      "image/png": "[encoded data removed]",
      "text/plain": [
       "<Figure size 640x480 with 1 Axes>"
      ]
     },
     "metadata": {},
     "output_type": "display_data"
    }
   ],
   "source": [
    "sns.scatterplot(x = df['year'], y = df['selling_price'], hue=df['seller_type'])\n",
    "# sns.scatterplot(x = df.year, y = df.selling_price, hue = df.transmission)"
   ]
  },
  {
   "cell_type": "code",
   "execution_count": 43,
   "id": "1a69442a",
   "metadata": {},
   "outputs": [
    {
     "data": {
      "text/html": [
       "<div>\n",
       "<style scoped>\n",
       "    .dataframe tbody tr th:only-of-type {\n",
       "        vertical-align: middle;\n",
       "    }\n",
       "\n",
       "    .dataframe tbody tr th {\n",
       "        vertical-align: top;\n",
       "    }\n",
       "\n",
       "    .dataframe thead th {\n",
       "        text-align: right;\n",
       "    }\n",
       "</style>\n",
       "<table border=\"1\" class=\"dataframe\">\n",
       "  <thead>\n",
       "    <tr style=\"text-align: right;\">\n",
       "      <th></th>\n",
       "      <th>brand</th>\n",
       "      <th>year</th>\n",
       "      <th>selling_price</th>\n",
       "      <th>km_driven</th>\n",
       "      <th>fuel</th>\n",
       "      <th>seller_type</th>\n",
       "      <th>transmission</th>\n",
       "      <th>owner</th>\n",
       "      <th>mileage</th>\n",
       "      <th>engine</th>\n",
       "      <th>max_power</th>\n",
       "      <th>seats</th>\n",
       "    </tr>\n",
       "  </thead>\n",
       "  <tbody>\n",
       "    <tr>\n",
       "      <th>0</th>\n",
       "      <td>Maruti</td>\n",
       "      <td>2014</td>\n",
       "      <td>450000</td>\n",
       "      <td>145500</td>\n",
       "      <td>Diesel</td>\n",
       "      <td>Individual</td>\n",
       "      <td>Manual</td>\n",
       "      <td>1</td>\n",
       "      <td>23.40</td>\n",
       "      <td>1248.0</td>\n",
       "      <td>74.00</td>\n",
       "      <td>5.0</td>\n",
       "    </tr>\n",
       "    <tr>\n",
       "      <th>1</th>\n",
       "      <td>Skoda</td>\n",
       "      <td>2014</td>\n",
       "      <td>370000</td>\n",
       "      <td>120000</td>\n",
       "      <td>Diesel</td>\n",
       "      <td>Individual</td>\n",
       "      <td>Manual</td>\n",
       "      <td>2</td>\n",
       "      <td>21.14</td>\n",
       "      <td>1498.0</td>\n",
       "      <td>103.52</td>\n",
       "      <td>5.0</td>\n",
       "    </tr>\n",
       "    <tr>\n",
       "      <th>2</th>\n",
       "      <td>Honda</td>\n",
       "      <td>2006</td>\n",
       "      <td>158000</td>\n",
       "      <td>140000</td>\n",
       "      <td>Petrol</td>\n",
       "      <td>Individual</td>\n",
       "      <td>Manual</td>\n",
       "      <td>3</td>\n",
       "      <td>17.70</td>\n",
       "      <td>1497.0</td>\n",
       "      <td>78.00</td>\n",
       "      <td>5.0</td>\n",
       "    </tr>\n",
       "    <tr>\n",
       "      <th>3</th>\n",
       "      <td>Hyundai</td>\n",
       "      <td>2010</td>\n",
       "      <td>225000</td>\n",
       "      <td>127000</td>\n",
       "      <td>Diesel</td>\n",
       "      <td>Individual</td>\n",
       "      <td>Manual</td>\n",
       "      <td>1</td>\n",
       "      <td>23.00</td>\n",
       "      <td>1396.0</td>\n",
       "      <td>90.00</td>\n",
       "      <td>5.0</td>\n",
       "    </tr>\n",
       "    <tr>\n",
       "      <th>4</th>\n",
       "      <td>Maruti</td>\n",
       "      <td>2007</td>\n",
       "      <td>130000</td>\n",
       "      <td>120000</td>\n",
       "      <td>Petrol</td>\n",
       "      <td>Individual</td>\n",
       "      <td>Manual</td>\n",
       "      <td>1</td>\n",
       "      <td>16.10</td>\n",
       "      <td>1298.0</td>\n",
       "      <td>88.20</td>\n",
       "      <td>5.0</td>\n",
       "    </tr>\n",
       "    <tr>\n",
       "      <th>...</th>\n",
       "      <td>...</td>\n",
       "      <td>...</td>\n",
       "      <td>...</td>\n",
       "      <td>...</td>\n",
       "      <td>...</td>\n",
       "      <td>...</td>\n",
       "      <td>...</td>\n",
       "      <td>...</td>\n",
       "      <td>...</td>\n",
       "      <td>...</td>\n",
       "      <td>...</td>\n",
       "      <td>...</td>\n",
       "    </tr>\n",
       "    <tr>\n",
       "      <th>8123</th>\n",
       "      <td>Hyundai</td>\n",
       "      <td>2013</td>\n",
       "      <td>320000</td>\n",
       "      <td>110000</td>\n",
       "      <td>Petrol</td>\n",
       "      <td>Individual</td>\n",
       "      <td>Manual</td>\n",
       "      <td>1</td>\n",
       "      <td>18.50</td>\n",
       "      <td>1197.0</td>\n",
       "      <td>82.85</td>\n",
       "      <td>5.0</td>\n",
       "    </tr>\n",
       "    <tr>\n",
       "      <th>8124</th>\n",
       "      <td>Hyundai</td>\n",
       "      <td>2007</td>\n",
       "      <td>135000</td>\n",
       "      <td>119000</td>\n",
       "      <td>Diesel</td>\n",
       "      <td>Individual</td>\n",
       "      <td>Manual</td>\n",
       "      <td>4</td>\n",
       "      <td>16.80</td>\n",
       "      <td>1493.0</td>\n",
       "      <td>110.00</td>\n",
       "      <td>5.0</td>\n",
       "    </tr>\n",
       "    <tr>\n",
       "      <th>8125</th>\n",
       "      <td>Maruti</td>\n",
       "      <td>2009</td>\n",
       "      <td>382000</td>\n",
       "      <td>120000</td>\n",
       "      <td>Diesel</td>\n",
       "      <td>Individual</td>\n",
       "      <td>Manual</td>\n",
       "      <td>1</td>\n",
       "      <td>19.30</td>\n",
       "      <td>1248.0</td>\n",
       "      <td>73.90</td>\n",
       "      <td>5.0</td>\n",
       "    </tr>\n",
       "    <tr>\n",
       "      <th>8126</th>\n",
       "      <td>Tata</td>\n",
       "      <td>2013</td>\n",
       "      <td>290000</td>\n",
       "      <td>25000</td>\n",
       "      <td>Diesel</td>\n",
       "      <td>Individual</td>\n",
       "      <td>Manual</td>\n",
       "      <td>1</td>\n",
       "      <td>23.57</td>\n",
       "      <td>1396.0</td>\n",
       "      <td>70.00</td>\n",
       "      <td>5.0</td>\n",
       "    </tr>\n",
       "    <tr>\n",
       "      <th>8127</th>\n",
       "      <td>Tata</td>\n",
       "      <td>2013</td>\n",
       "      <td>290000</td>\n",
       "      <td>25000</td>\n",
       "      <td>Diesel</td>\n",
       "      <td>Individual</td>\n",
       "      <td>Manual</td>\n",
       "      <td>1</td>\n",
       "      <td>23.57</td>\n",
       "      <td>1396.0</td>\n",
       "      <td>70.00</td>\n",
       "      <td>5.0</td>\n",
       "    </tr>\n",
       "  </tbody>\n",
       "</table>\n",
       "<p>8028 rows × 12 columns</p>\n",
       "</div>"
      ],
      "text/plain": [
       "        brand  year  selling_price  km_driven    fuel seller_type  \\\n",
       "0      Maruti  2014         450000     145500  Diesel  Individual   \n",
       "1       Skoda  2014         370000     120000  Diesel  Individual   \n",
       "2       Honda  2006         158000     140000  Petrol  Individual   \n",
       "3     Hyundai  2010         225000     127000  Diesel  Individual   \n",
       "4      Maruti  2007         130000     120000  Petrol  Individual   \n",
       "...       ...   ...            ...        ...     ...         ...   \n",
       "8123  Hyundai  2013         320000     110000  Petrol  Individual   \n",
       "8124  Hyundai  2007         135000     119000  Diesel  Individual   \n",
       "8125   Maruti  2009         382000     120000  Diesel  Individual   \n",
       "8126     Tata  2013         290000      25000  Diesel  Individual   \n",
       "8127     Tata  2013         290000      25000  Diesel  Individual   \n",
       "\n",
       "     transmission  owner  mileage  engine  max_power  seats  \n",
       "0          Manual      1    23.40  1248.0      74.00    5.0  \n",
       "1          Manual      2    21.14  1498.0     103.52    5.0  \n",
       "2          Manual      3    17.70  1497.0      78.00    5.0  \n",
       "3          Manual      1    23.00  1396.0      90.00    5.0  \n",
       "4          Manual      1    16.10  1298.0      88.20    5.0  \n",
       "...           ...    ...      ...     ...        ...    ...  \n",
       "8123       Manual      1    18.50  1197.0      82.85    5.0  \n",
       "8124       Manual      4    16.80  1493.0     110.00    5.0  \n",
       "8125       Manual      1    19.30  1248.0      73.90    5.0  \n",
       "8126       Manual      1    23.57  1396.0      70.00    5.0  \n",
       "8127       Manual      1    23.57  1396.0      70.00    5.0  \n",
       "\n",
       "[8028 rows x 12 columns]"
      ]
     },
     "execution_count": 43,
     "metadata": {},
     "output_type": "execute_result"
    }
   ],
   "source": [
    "df"
   ]
  },
  {
   "attachments": {},
   "cell_type": "markdown",
   "id": "a14d97ae",
   "metadata": {},
   "source": [
    "#### Correlation Matrix\n",
    "\n",
    "According to the features indicated by the questions that 'brand' might not be a significant predictor for car price, however I investigated its potential impact by creating a correlation matrix. Since the correlation matrix requires numerical values, I label-encoded the categorical features 'brand', 'fuel', 'transmission', and 'seller_type'."
   ]
  },
  {
   "cell_type": "code",
   "execution_count": 44,
   "id": "1199f5d1",
   "metadata": {},
   "outputs": [
    {
     "data": {
      "text/plain": [
       "array([20, 27, 10, 11, 29,  9, 26, 19, 28,  4,  7,  6, 14, 21, 22,  2, 30,\n",
       "        3, 23, 17, 13, 16, 18, 31,  5, 15,  8,  0,  1, 12, 24, 25])"
      ]
     },
     "execution_count": 44,
     "metadata": {},
     "output_type": "execute_result"
    }
   ],
   "source": [
    "from sklearn.preprocessing import LabelEncoder\n",
    "\n",
    "le = LabelEncoder()\n",
    "df[\"brand\"] = le.fit_transform(df[\"brand\"])\n",
    "\n",
    "df[\"brand\"].unique()"
   ]
  },
  {
   "cell_type": "code",
   "execution_count": 45,
   "id": "fa068587",
   "metadata": {},
   "outputs": [
    {
     "data": {
      "text/plain": [
       "array(['Ambassador', 'Ashok', 'Audi', 'BMW', 'Chevrolet', 'Daewoo',\n",
       "       'Datsun', 'Fiat', 'Force', 'Ford', 'Honda', 'Hyundai', 'Isuzu',\n",
       "       'Jaguar', 'Jeep', 'Kia', 'Land', 'Lexus', 'MG', 'Mahindra',\n",
       "       'Maruti', 'Mercedes-Benz', 'Mitsubishi', 'Nissan', 'Opel',\n",
       "       'Peugeot', 'Renault', 'Skoda', 'Tata', 'Toyota', 'Volkswagen',\n",
       "       'Volvo'], dtype=object)"
      ]
     },
     "execution_count": 45,
     "metadata": {},
     "output_type": "execute_result"
    }
   ],
   "source": [
    "# we can call le.classes_ to know what it maps to\n",
    "le.classes_"
   ]
  },
  {
   "cell_type": "code",
   "execution_count": 46,
   "id": "bd387003",
   "metadata": {},
   "outputs": [
    {
     "data": {
      "text/plain": [
       "{'Ambassador': 20,\n",
       " 'Ashok': 27,\n",
       " 'Audi': 10,\n",
       " 'BMW': 11,\n",
       " 'Chevrolet': 29,\n",
       " 'Daewoo': 9,\n",
       " 'Datsun': 26,\n",
       " 'Fiat': 19,\n",
       " 'Force': 28,\n",
       " 'Ford': 4,\n",
       " 'Honda': 7,\n",
       " 'Hyundai': 6,\n",
       " 'Isuzu': 14,\n",
       " 'Jaguar': 21,\n",
       " 'Jeep': 22,\n",
       " 'Kia': 2,\n",
       " 'Land': 30,\n",
       " 'Lexus': 3,\n",
       " 'MG': 23,\n",
       " 'Mahindra': 17,\n",
       " 'Maruti': 13,\n",
       " 'Mercedes-Benz': 16,\n",
       " 'Mitsubishi': 18,\n",
       " 'Nissan': 31,\n",
       " 'Opel': 5,\n",
       " 'Peugeot': 15,\n",
       " 'Renault': 8,\n",
       " 'Skoda': 0,\n",
       " 'Tata': 1,\n",
       " 'Toyota': 12,\n",
       " 'Volkswagen': 24,\n",
       " 'Volvo': 25}"
      ]
     },
     "execution_count": 46,
     "metadata": {},
     "output_type": "execute_result"
    }
   ],
   "source": [
    "brand = {}\n",
    "keys = le.classes_\n",
    "values = df['brand'].unique()\n",
    "for key in keys:\n",
    "    for value in values:\n",
    "        brand[key] = value\n",
    "        values = np.delete(values, np.where(values == value))\n",
    "        break\n",
    "\n",
    "brand"
   ]
  },
  {
   "cell_type": "code",
   "execution_count": 47,
   "id": "5b8c4f41",
   "metadata": {},
   "outputs": [
    {
     "data": {
      "text/plain": [
       "array([0, 1])"
      ]
     },
     "execution_count": 47,
     "metadata": {},
     "output_type": "execute_result"
    }
   ],
   "source": [
    "df['fuel'] = le.fit_transform(df['fuel'])\n",
    "\n",
    "df['fuel'].unique()"
   ]
  },
  {
   "cell_type": "code",
   "execution_count": 48,
   "id": "ea7619a0",
   "metadata": {},
   "outputs": [
    {
     "data": {
      "text/plain": [
       "array(['Diesel', 'Petrol'], dtype=object)"
      ]
     },
     "execution_count": 48,
     "metadata": {},
     "output_type": "execute_result"
    }
   ],
   "source": [
    "le.classes_"
   ]
  },
  {
   "cell_type": "code",
   "execution_count": 49,
   "id": "706c90c0",
   "metadata": {},
   "outputs": [
    {
     "data": {
      "text/plain": [
       "array([1, 0])"
      ]
     },
     "execution_count": 49,
     "metadata": {},
     "output_type": "execute_result"
    }
   ],
   "source": [
    "df['transmission'] = le.fit_transform(df['transmission'])\n",
    "\n",
    "df['transmission'].unique()"
   ]
  },
  {
   "cell_type": "code",
   "execution_count": 50,
   "id": "7052f227",
   "metadata": {},
   "outputs": [
    {
     "data": {
      "text/plain": [
       "array(['Automatic', 'Manual'], dtype=object)"
      ]
     },
     "execution_count": 50,
     "metadata": {},
     "output_type": "execute_result"
    }
   ],
   "source": [
    "le.classes_"
   ]
  },
  {
   "cell_type": "code",
   "execution_count": 51,
   "id": "044595cc",
   "metadata": {},
   "outputs": [
    {
     "data": {
      "text/plain": [
       "array([1, 0, 2])"
      ]
     },
     "execution_count": 51,
     "metadata": {},
     "output_type": "execute_result"
    }
   ],
   "source": [
    "df['seller_type'] = le.fit_transform(df['seller_type'])\n",
    "\n",
    "df['seller_type'].unique()"
   ]
  },
  {
   "cell_type": "code",
   "execution_count": 52,
   "id": "f690e493",
   "metadata": {},
   "outputs": [
    {
     "data": {
      "text/plain": [
       "array(['Dealer', 'Individual', 'Trustmark Dealer'], dtype=object)"
      ]
     },
     "execution_count": 52,
     "metadata": {},
     "output_type": "execute_result"
    }
   ],
   "source": [
    "le.classes_"
   ]
  },
  {
   "cell_type": "code",
   "execution_count": 53,
   "id": "fbc4b4dc",
   "metadata": {},
   "outputs": [
    {
     "data": {
      "text/plain": [
       "<Axes: >"
      ]
     },
     "execution_count": 53,
     "metadata": {},
     "output_type": "execute_result"
    },
    {
     "data": {
      "image/png": "[encoded data removed]",
      "text/plain": [
       "<Figure size 1500x800 with 2 Axes>"
      ]
     },
     "metadata": {},
     "output_type": "display_data"
    }
   ],
   "source": [
    "plt.figure(figsize = (15,8))\n",
    "sns.heatmap(df.corr(), annot=True, cmap=\"coolwarm\")"
   ]
  },
  {
   "cell_type": "markdown",
   "id": "f6a0078c",
   "metadata": {},
   "source": [
    "**Predictive Power Score**\n",
    "\n",
    "The predictive power score library is used to more accurately see the correlation results and confirm our assumptions of the relation of the features to the label."
   ]
  },
  {
   "cell_type": "code",
   "execution_count": 54,
   "id": "4a3ea713",
   "metadata": {},
   "outputs": [
    {
     "data": {
      "text/plain": [
       "<Axes: xlabel='x', ylabel='y'>"
      ]
     },
     "execution_count": 54,
     "metadata": {},
     "output_type": "execute_result"
    },
    {
     "data": {
      "image/png": "[encoded data removed]",
      "text/plain": [
       "<Figure size 1500x800 with 2 Axes>"
      ]
     },
     "metadata": {},
     "output_type": "display_data"
    }
   ],
   "source": [
    "import ppscore as pps\n",
    "\n",
    "dfcopy = df.copy()\n",
    "\n",
    "# Preprocessing using pivot\n",
    "matrix_df = pps.matrix(dfcopy)[['x', 'y', 'ppscore']].pivot(columns='x', index='y', values='ppscore')\n",
    "\n",
    "plt.figure(figsize = (15,8))\n",
    "sns.heatmap(matrix_df, vmin=0, vmax=1, cmap=\"rocket_r\", linewidths=0.5, annot=True)"
   ]
  },
  {
   "attachments": {},
   "cell_type": "markdown",
   "id": "fbf3abf4",
   "metadata": {},
   "source": [
    "## 3. Feature Engineering\n",
    "\n",
    "Gonna skip for this assignment. "
   ]
  },
  {
   "attachments": {},
   "cell_type": "markdown",
   "metadata": {},
   "source": [
    "## 4. Feature selection"
   ]
  },
  {
   "cell_type": "markdown",
   "id": "99c4fd17",
   "metadata": {},
   "source": [
    "The features selected are 'max_power', 'mileage', and 'year' according to the instructions on the question"
   ]
  },
  {
   "cell_type": "code",
   "execution_count": 55,
   "metadata": {},
   "outputs": [],
   "source": [
    "X = df[['max_power', 'mileage','year']]\n",
    "\n",
    "y = np.log(df['selling_price'])"
   ]
  },
  {
   "cell_type": "code",
   "execution_count": 56,
   "id": "0c0888d3",
   "metadata": {},
   "outputs": [
    {
     "name": "stdout",
     "output_type": "stream",
     "text": [
      "X: (8028, 3)\n",
      "y: (8028,)\n"
     ]
    }
   ],
   "source": [
    "print(f'X: {X.shape}')\n",
    "print(f'y: {y.shape}')"
   ]
  },
  {
   "attachments": {},
   "cell_type": "markdown",
   "metadata": {},
   "source": [
    "### Train test split"
   ]
  },
  {
   "cell_type": "code",
   "execution_count": 57,
   "metadata": {},
   "outputs": [],
   "source": [
    "from sklearn.model_selection import train_test_split\n",
    "\n",
    "X_train, X_test, y_train, y_test = train_test_split(X, y, test_size = 0.3, random_state = 42)"
   ]
  },
  {
   "attachments": {},
   "cell_type": "markdown",
   "id": "acfea971",
   "metadata": {},
   "source": [
    "## 5. Preprocessing"
   ]
  },
  {
   "attachments": {},
   "cell_type": "markdown",
   "id": "bbd4215d",
   "metadata": {},
   "source": [
    "### Null values"
   ]
  },
  {
   "cell_type": "code",
   "execution_count": 58,
   "id": "bb0094d3",
   "metadata": {},
   "outputs": [
    {
     "data": {
      "text/html": [
       "<div>\n",
       "<style scoped>\n",
       "    .dataframe tbody tr th:only-of-type {\n",
       "        vertical-align: middle;\n",
       "    }\n",
       "\n",
       "    .dataframe tbody tr th {\n",
       "        vertical-align: top;\n",
       "    }\n",
       "\n",
       "    .dataframe thead th {\n",
       "        text-align: right;\n",
       "    }\n",
       "</style>\n",
       "<table border=\"1\" class=\"dataframe\">\n",
       "  <thead>\n",
       "    <tr style=\"text-align: right;\">\n",
       "      <th></th>\n",
       "      <th>max_power</th>\n",
       "      <th>mileage</th>\n",
       "      <th>year</th>\n",
       "    </tr>\n",
       "  </thead>\n",
       "  <tbody>\n",
       "    <tr>\n",
       "      <th>6853</th>\n",
       "      <td>72.40</td>\n",
       "      <td>13.58</td>\n",
       "      <td>2015</td>\n",
       "    </tr>\n",
       "    <tr>\n",
       "      <th>1495</th>\n",
       "      <td>62.10</td>\n",
       "      <td>15.96</td>\n",
       "      <td>2013</td>\n",
       "    </tr>\n",
       "    <tr>\n",
       "      <th>7904</th>\n",
       "      <td>88.76</td>\n",
       "      <td>20.77</td>\n",
       "      <td>2013</td>\n",
       "    </tr>\n",
       "    <tr>\n",
       "      <th>1281</th>\n",
       "      <td>90.00</td>\n",
       "      <td>18.80</td>\n",
       "      <td>2010</td>\n",
       "    </tr>\n",
       "    <tr>\n",
       "      <th>1421</th>\n",
       "      <td>90.00</td>\n",
       "      <td>23.00</td>\n",
       "      <td>2010</td>\n",
       "    </tr>\n",
       "    <tr>\n",
       "      <th>...</th>\n",
       "      <td>...</td>\n",
       "      <td>...</td>\n",
       "      <td>...</td>\n",
       "    </tr>\n",
       "    <tr>\n",
       "      <th>5293</th>\n",
       "      <td>78.90</td>\n",
       "      <td>20.36</td>\n",
       "      <td>2013</td>\n",
       "    </tr>\n",
       "    <tr>\n",
       "      <th>5461</th>\n",
       "      <td>67.04</td>\n",
       "      <td>20.51</td>\n",
       "      <td>2016</td>\n",
       "    </tr>\n",
       "    <tr>\n",
       "      <th>865</th>\n",
       "      <td>88.76</td>\n",
       "      <td>20.77</td>\n",
       "      <td>2015</td>\n",
       "    </tr>\n",
       "    <tr>\n",
       "      <th>7701</th>\n",
       "      <td>214.56</td>\n",
       "      <td>22.37</td>\n",
       "      <td>2019</td>\n",
       "    </tr>\n",
       "    <tr>\n",
       "      <th>7366</th>\n",
       "      <td>83.10</td>\n",
       "      <td>21.40</td>\n",
       "      <td>2018</td>\n",
       "    </tr>\n",
       "  </tbody>\n",
       "</table>\n",
       "<p>5619 rows × 3 columns</p>\n",
       "</div>"
      ],
      "text/plain": [
       "      max_power  mileage  year\n",
       "6853      72.40    13.58  2015\n",
       "1495      62.10    15.96  2013\n",
       "7904      88.76    20.77  2013\n",
       "1281      90.00    18.80  2010\n",
       "1421      90.00    23.00  2010\n",
       "...         ...      ...   ...\n",
       "5293      78.90    20.36  2013\n",
       "5461      67.04    20.51  2016\n",
       "865       88.76    20.77  2015\n",
       "7701     214.56    22.37  2019\n",
       "7366      83.10    21.40  2018\n",
       "\n",
       "[5619 rows x 3 columns]"
      ]
     },
     "execution_count": 58,
     "metadata": {},
     "output_type": "execute_result"
    }
   ],
   "source": [
    "X_train"
   ]
  },
  {
   "cell_type": "code",
   "execution_count": 59,
   "id": "e079b78b",
   "metadata": {},
   "outputs": [
    {
     "data": {
      "text/plain": [
       "max_power    149\n",
       "mileage      154\n",
       "year           0\n",
       "dtype: int64"
      ]
     },
     "execution_count": 59,
     "metadata": {},
     "output_type": "execute_result"
    }
   ],
   "source": [
    "#check for null values\n",
    "X_train[['max_power', 'mileage','year']].isna().sum()"
   ]
  },
  {
   "cell_type": "code",
   "execution_count": 60,
   "id": "21c17fd4",
   "metadata": {},
   "outputs": [
    {
     "data": {
      "text/plain": [
       "max_power    59\n",
       "mileage      60\n",
       "year          0\n",
       "dtype: int64"
      ]
     },
     "execution_count": 60,
     "metadata": {},
     "output_type": "execute_result"
    }
   ],
   "source": [
    "X_test[['max_power', 'mileage','year']].isna().sum()"
   ]
  },
  {
   "cell_type": "code",
   "execution_count": 61,
   "id": "b8c22c75",
   "metadata": {},
   "outputs": [
    {
     "data": {
      "text/plain": [
       "0"
      ]
     },
     "execution_count": 61,
     "metadata": {},
     "output_type": "execute_result"
    }
   ],
   "source": [
    "y_train.isna().sum()"
   ]
  },
  {
   "cell_type": "code",
   "execution_count": 62,
   "id": "7cb06f60",
   "metadata": {},
   "outputs": [
    {
     "data": {
      "text/plain": [
       "0"
      ]
     },
     "execution_count": 62,
     "metadata": {},
     "output_type": "execute_result"
    }
   ],
   "source": [
    "y_test.isna().sum()"
   ]
  },
  {
   "cell_type": "code",
   "execution_count": 63,
   "id": "5f861942",
   "metadata": {},
   "outputs": [
    {
     "data": {
      "text/plain": [
       "<seaborn.axisgrid.FacetGrid at 0x748bc3f3bd00>"
      ]
     },
     "execution_count": 63,
     "metadata": {},
     "output_type": "execute_result"
    },
    {
     "data": {
      "image/png": "[encoded data removed]",
      "text/plain": [
       "<Figure size 500x500 with 1 Axes>"
      ]
     },
     "metadata": {},
     "output_type": "display_data"
    }
   ],
   "source": [
    "sns.displot(data=df, x='max_power')"
   ]
  },
  {
   "cell_type": "code",
   "execution_count": 64,
   "id": "12c19471",
   "metadata": {},
   "outputs": [
    {
     "data": {
      "text/plain": [
       "<seaborn.axisgrid.FacetGrid at 0x748bc15df1f0>"
      ]
     },
     "execution_count": 64,
     "metadata": {},
     "output_type": "execute_result"
    },
    {
     "data": {
      "image/png": "[encoded data removed]",
      "text/plain": [
       "<Figure size 500x500 with 1 Axes>"
      ]
     },
     "metadata": {},
     "output_type": "display_data"
    }
   ],
   "source": [
    "sns.displot(data=df, x='mileage')"
   ]
  },
  {
   "cell_type": "code",
   "execution_count": 65,
   "id": "f82761ba",
   "metadata": {},
   "outputs": [
    {
     "data": {
      "text/plain": [
       "<seaborn.axisgrid.FacetGrid at 0x748bf02167d0>"
      ]
     },
     "execution_count": 65,
     "metadata": {},
     "output_type": "execute_result"
    },
    {
     "data": {
      "image/png": "[encoded data removed]",
      "text/plain": [
       "<Figure size 500x500 with 1 Axes>"
      ]
     },
     "metadata": {},
     "output_type": "display_data"
    }
   ],
   "source": [
    "sns.displot(data=df, x='year')"
   ]
  },
  {
   "cell_type": "code",
   "execution_count": 66,
   "id": "34cdd193",
   "metadata": {},
   "outputs": [
    {
     "data": {
      "text/plain": [
       "<seaborn.axisgrid.FacetGrid at 0x748bc94ae320>"
      ]
     },
     "execution_count": 66,
     "metadata": {},
     "output_type": "execute_result"
    },
    {
     "data": {
      "image/png": "[encoded data removed]",
      "text/plain": [
       "<Figure size 500x500 with 1 Axes>"
      ]
     },
     "metadata": {},
     "output_type": "display_data"
    }
   ],
   "source": [
    "sns.displot(y_train)"
   ]
  },
  {
   "cell_type": "code",
   "execution_count": 67,
   "id": "3ee6a75b",
   "metadata": {},
   "outputs": [],
   "source": [
    "# year, max_power are right skewed\n",
    "# milage is almost normally distributed"
   ]
  },
  {
   "cell_type": "markdown",
   "id": "9bdab08b",
   "metadata": {},
   "source": [
    "Define the default values for imputation according to the question\n",
    " - max_power = 82.4 \n",
    " - mileage = 19.392\n",
    " - year = 2023\n",
    "\n",
    "This will be dump for the model"
   ]
  },
  {
   "cell_type": "code",
   "execution_count": 68,
   "id": "f5f46d6b",
   "metadata": {},
   "outputs": [],
   "source": [
    "year_default = 2023        \n",
    "mileage_default = 19.392   \n",
    "max_power_default = 82.4   "
   ]
  },
  {
   "cell_type": "code",
   "execution_count": 69,
   "id": "8563e333",
   "metadata": {},
   "outputs": [],
   "source": [
    "#let's fill the training set first!\n",
    "X_train['mileage'].fillna(X_train['mileage'].mean(), inplace=True)\n",
    "X_train['max_power'].fillna(X_train['max_power'].median(), inplace=True)\n",
    "# X_train['year'].fillna(X_train['year'].median(), inplace=True)"
   ]
  },
  {
   "cell_type": "code",
   "execution_count": 70,
   "id": "acff1a51",
   "metadata": {},
   "outputs": [],
   "source": [
    "#let's fill the testing set with the training distribution first!\n",
    "X_test['mileage'].fillna(X_train['mileage'].mean(), inplace=True)\n",
    "X_test['max_power'].fillna(X_train['max_power'].median(), inplace=True)\n",
    "# X_test['year'].fillna(X_train['year'].median(), inplace=True)"
   ]
  },
  {
   "cell_type": "code",
   "execution_count": 71,
   "id": "ef8a4883",
   "metadata": {},
   "outputs": [
    {
     "data": {
      "text/plain": [
       "max_power    0\n",
       "mileage      0\n",
       "year         0\n",
       "dtype: int64"
      ]
     },
     "execution_count": 71,
     "metadata": {},
     "output_type": "execute_result"
    }
   ],
   "source": [
    "#check again\n",
    "X_train[['max_power', 'mileage','year']].isna().sum()"
   ]
  },
  {
   "cell_type": "code",
   "execution_count": 72,
   "id": "5bc75e31",
   "metadata": {},
   "outputs": [
    {
     "data": {
      "text/plain": [
       "max_power    0\n",
       "mileage      0\n",
       "year         0\n",
       "dtype: int64"
      ]
     },
     "execution_count": 72,
     "metadata": {},
     "output_type": "execute_result"
    }
   ],
   "source": [
    "X_test[['max_power', 'mileage','year']].isna().sum()"
   ]
  },
  {
   "cell_type": "code",
   "execution_count": 73,
   "id": "f46c274d",
   "metadata": {},
   "outputs": [
    {
     "data": {
      "text/plain": [
       "(0, 0)"
      ]
     },
     "execution_count": 73,
     "metadata": {},
     "output_type": "execute_result"
    }
   ],
   "source": [
    "y_train.isna().sum(), y_test.isna().sum()"
   ]
  },
  {
   "attachments": {},
   "cell_type": "markdown",
   "id": "9b80cd03",
   "metadata": {},
   "source": [
    "### Checking Outliers"
   ]
  },
  {
   "cell_type": "code",
   "execution_count": 74,
   "id": "2bb13273",
   "metadata": {},
   "outputs": [
    {
     "data": {
      "image/png": "[encoded data removed]",
      "text/plain": [
       "<Figure size 2000x3000 with 3 Axes>"
      ]
     },
     "metadata": {},
     "output_type": "display_data"
    }
   ],
   "source": [
    "# Create a dictionary of columns.\n",
    "col_dict = {'max_power':1, 'mileage':2 ,'year': 3}\n",
    "\n",
    "# Detect outliers in each variable using box plots.\n",
    "plt.figure(figsize=(20,30))\n",
    "\n",
    "for variable,i in col_dict.items():\n",
    "                     plt.subplot(5,4,i)\n",
    "                     plt.boxplot(X_train[variable])\n",
    "                     plt.title(variable)\n",
    "\n",
    "plt.show()"
   ]
  },
  {
   "cell_type": "code",
   "execution_count": 75,
   "id": "1d646458",
   "metadata": {},
   "outputs": [],
   "source": [
    "def outlier_count(col, data = X_train):\n",
    "    \n",
    "    # calculate your 25% quatile and 75% quatile\n",
    "    q75, q25 = np.percentile(data[col], [75, 25])\n",
    "    \n",
    "    # calculate your inter quatile\n",
    "    iqr = q75 - q25\n",
    "    \n",
    "    # min_val and max_val\n",
    "    min_val = q25 - (iqr*1.5)\n",
    "    max_val = q75 + (iqr*1.5)\n",
    "    \n",
    "    # count number of outliers, which are the data that are less than min_val or more than max_val calculated above\n",
    "    outlier_count = len(np.where((data[col] > max_val) | (data[col] < min_val))[0])\n",
    "    \n",
    "    # calculate the percentage of the outliers\n",
    "    outlier_percent = round(outlier_count/len(data[col])*100, 2)\n",
    "    \n",
    "    if(outlier_count > 0):\n",
    "        print(\"\\n\"+15*'-' + col + 15*'-'+\"\\n\")\n",
    "        print('Number of outliers: {}'.format(outlier_count))\n",
    "        print('Percent of data that is outlier: {}%'.format(outlier_percent))"
   ]
  },
  {
   "cell_type": "code",
   "execution_count": 76,
   "id": "4daac8a4",
   "metadata": {},
   "outputs": [
    {
     "name": "stdout",
     "output_type": "stream",
     "text": [
      "\n",
      "---------------max_power---------------\n",
      "\n",
      "Number of outliers: 409\n",
      "Percent of data that is outlier: 7.28%\n",
      "\n",
      "---------------mileage---------------\n",
      "\n",
      "Number of outliers: 14\n",
      "Percent of data that is outlier: 0.25%\n",
      "\n",
      "---------------year---------------\n",
      "\n",
      "Number of outliers: 145\n",
      "Percent of data that is outlier: 2.58%\n"
     ]
    }
   ],
   "source": [
    "for col in X_train.columns:\n",
    "    outlier_count(col)"
   ]
  },
  {
   "attachments": {},
   "cell_type": "markdown",
   "metadata": {},
   "source": [
    "### Scaling"
   ]
  },
  {
   "cell_type": "code",
   "execution_count": 77,
   "metadata": {},
   "outputs": [],
   "source": [
    "from sklearn.preprocessing import StandardScaler\n",
    "\n",
    "# feature scaling helps improve reach convergence faster\n",
    "scaler = StandardScaler()\n",
    "X_train = scaler.fit_transform(X_train)\n",
    "X_test  = scaler.transform(X_test)\n",
    "\n",
    "#x = (x - mean) / std\n",
    "#why do we want to scale our data before data analysis / machine learning\n",
    "\n",
    "#allows your machine learning model to catch the pattern/relationship faster\n",
    "#faster convergence\n",
    "\n",
    "#how many ways to scale\n",
    "#standardardization <====current way\n",
    "# (x - mean) / std\n",
    "#--> when your data follows normal distribution\n",
    "\n",
    "#normalization <---another way\n",
    "# (x - x_min) / (x_max - x_min)\n",
    "#---> when your data DOES NOT follow normal distribution (e.g., audio, signal, image)"
   ]
  },
  {
   "cell_type": "code",
   "execution_count": 78,
   "metadata": {},
   "outputs": [
    {
     "name": "stdout",
     "output_type": "stream",
     "text": [
      "Shape of X_train:  (5619, 3)\n",
      "Shape of X_test:  (2409, 3)\n",
      "Shape of y_train:  (5619,)\n",
      "Shape of y_test:  (2409,)\n"
     ]
    }
   ],
   "source": [
    "# Let's check shapes of all X_train, X_test, y_train, y_test\n",
    "print(\"Shape of X_train: \", X_train.shape)\n",
    "print(\"Shape of X_test: \", X_test.shape)\n",
    "print(\"Shape of y_train: \", y_train.shape)\n",
    "print(\"Shape of y_test: \", y_test.shape)"
   ]
  },
  {
   "attachments": {},
   "cell_type": "markdown",
   "metadata": {},
   "source": [
    "## 6. Modeling"
   ]
  },
  {
   "cell_type": "code",
   "execution_count": 79,
   "id": "cb00167b",
   "metadata": {},
   "outputs": [
    {
     "name": "stdout",
     "output_type": "stream",
     "text": [
      "MSE:  0.113701300891246\n",
      "r2:  0.8383976294188933\n"
     ]
    }
   ],
   "source": [
    "from sklearn.linear_model import LinearRegression  #we are using regression models\n",
    "from sklearn.metrics import mean_squared_error, r2_score\n",
    "\n",
    "lr = LinearRegression()\n",
    "lr.fit(X_train, y_train)\n",
    "yhat = lr.predict(X_test)\n",
    "\n",
    "print(\"MSE: \", mean_squared_error(y_test, yhat))\n",
    "print(\"r2: \", r2_score(y_test, yhat))"
   ]
  },
  {
   "cell_type": "markdown",
   "id": "d0efd13a",
   "metadata": {},
   "source": [
    "### Much better: Cross validation + Grid search"
   ]
  },
  {
   "cell_type": "code",
   "execution_count": 80,
   "metadata": {},
   "outputs": [],
   "source": [
    "from sklearn.linear_model import LinearRegression  #we are using regression models\n",
    "from sklearn.svm import SVR\n",
    "from sklearn.neighbors import KNeighborsRegressor\n",
    "from sklearn.tree import DecisionTreeRegressor\n",
    "from sklearn.ensemble import RandomForestRegressor\n",
    "\n",
    "# Libraries for model evaluation\n",
    "\n",
    "# models that we will be using, put them in a list\n",
    "algorithms = [LinearRegression(), SVR(), KNeighborsRegressor(), DecisionTreeRegressor(random_state = 0), \n",
    "              RandomForestRegressor(n_estimators = 100, random_state = 0)]\n",
    "\n",
    "# The names of the models\n",
    "algorithm_names = [\"Linear Regression\", \"SVR\", \"KNeighbors Regressor\", \"Decision-Tree Regressor\", \"Random-Forest Regressor\"]"
   ]
  },
  {
   "attachments": {},
   "cell_type": "markdown",
   "metadata": {},
   "source": [
    "Let's do some simple cross-validation here...."
   ]
  },
  {
   "cell_type": "code",
   "execution_count": 81,
   "id": "85366d97",
   "metadata": {
    "scrolled": true
   },
   "outputs": [
    {
     "name": "stdout",
     "output_type": "stream",
     "text": [
      "Linear Regression - Score: [-0.11111698 -0.11445427 -0.11884171 -0.11964549 -0.1270602 ]; Mean: -0.11822373084111344\n",
      "SVR - Score: [-0.09102245 -0.08475256 -0.08790275 -0.0851641  -0.08648688]; Mean: -0.08706574869652274\n",
      "KNeighbors Regressor - Score: [-0.07495437 -0.06720106 -0.07497825 -0.07176002 -0.06769113]; Mean: -0.07131696467101258\n",
      "Decision-Tree Regressor - Score: [-0.05833494 -0.05821168 -0.06936806 -0.07619648 -0.07443864]; Mean: -0.06730995997885965\n",
      "Random-Forest Regressor - Score: [-0.05857021 -0.05659889 -0.05539445 -0.06053941 -0.04728649]; Mean: -0.05567789075771297\n"
     ]
    }
   ],
   "source": [
    "from sklearn.model_selection import KFold, cross_val_score\n",
    "\n",
    "#lists for keeping mse\n",
    "train_mse = []\n",
    "test_mse = []\n",
    "\n",
    "#defining splits\n",
    "kfold = KFold(n_splits=5, shuffle=True)\n",
    "\n",
    "for i, model in enumerate(algorithms):\n",
    "    scores = cross_val_score(model, X_train, y_train, cv=kfold, scoring='neg_mean_squared_error')\n",
    "    print(f\"{algorithm_names[i]} - Score: {scores}; Mean: {scores.mean()}\")"
   ]
  },
  {
   "attachments": {},
   "cell_type": "markdown",
   "metadata": {},
   "source": [
    "### Grid Search"
   ]
  },
  {
   "cell_type": "code",
   "execution_count": 82,
   "metadata": {},
   "outputs": [],
   "source": [
    "from sklearn.model_selection import GridSearchCV\n",
    "\n",
    "param_grid = {'bootstrap': [True], 'max_depth': [5, 10, None],\n",
    "              'n_estimators': [5, 6, 7, 8, 9, 10, 11, 12, 13, 15]}\n",
    "\n",
    "rf = RandomForestRegressor(random_state = 1)\n",
    "\n",
    "grid = GridSearchCV(estimator = rf, \n",
    "                    param_grid = param_grid, \n",
    "                    cv = kfold, \n",
    "                    n_jobs = -1, \n",
    "                    return_train_score=True, \n",
    "                    refit=True,\n",
    "                    scoring='neg_mean_squared_error')\n",
    "\n",
    "# Fit your grid_search\n",
    "grid.fit(X_train, y_train);  #fit means start looping all the possible parameters"
   ]
  },
  {
   "cell_type": "code",
   "execution_count": 83,
   "metadata": {},
   "outputs": [
    {
     "data": {
      "text/plain": [
       "{'bootstrap': True, 'max_depth': None, 'n_estimators': 15}"
      ]
     },
     "execution_count": 83,
     "metadata": {},
     "output_type": "execute_result"
    }
   ],
   "source": [
    "grid.best_params_"
   ]
  },
  {
   "cell_type": "code",
   "execution_count": 84,
   "metadata": {},
   "outputs": [],
   "source": [
    "# Find your grid_search's best score\n",
    "best_mse = grid.best_score_"
   ]
  },
  {
   "cell_type": "code",
   "execution_count": 85,
   "id": "db4c3195",
   "metadata": {},
   "outputs": [
    {
     "data": {
      "text/plain": [
       "-0.057343279609579946"
      ]
     },
     "execution_count": 85,
     "metadata": {},
     "output_type": "execute_result"
    }
   ],
   "source": [
    "best_mse  # ignore the minus because it's neg_mean_squared_error"
   ]
  },
  {
   "cell_type": "code",
   "execution_count": 86,
   "id": "bb5d8439",
   "metadata": {},
   "outputs": [],
   "source": [
    "# Save the model,scaler and values together\n",
    "model = {\n",
    "    'model': grid,\n",
    "    'scaler': scaler,\n",
    "    'max_power' : max_power_default,\n",
    "    'mileage' : mileage_default,\n",
    "    'year' : year_default\n",
    "}"
   ]
  },
  {
   "cell_type": "code",
   "execution_count": 87,
   "id": "73f5074c",
   "metadata": {},
   "outputs": [],
   "source": [
    "# Save the dictionary to a file\n",
    "import pickle\n",
    "with open('../models/car_price.model', 'wb') as file:\n",
    "    pickle.dump(model, file)"
   ]
  },
  {
   "attachments": {},
   "cell_type": "markdown",
   "id": "6ff42019",
   "metadata": {},
   "source": [
    "## 7. Testing\n"
   ]
  },
  {
   "cell_type": "code",
   "execution_count": 88,
   "id": "89f82a50",
   "metadata": {},
   "outputs": [
    {
     "data": {
      "text/plain": [
       "0.053299896795658976"
      ]
     },
     "execution_count": 88,
     "metadata": {},
     "output_type": "execute_result"
    }
   ],
   "source": [
    "yhat = grid.predict(X_test)\n",
    "mean_squared_error(y_test, yhat)"
   ]
  },
  {
   "attachments": {},
   "cell_type": "markdown",
   "id": "a6074023",
   "metadata": {},
   "source": [
    "## 8. Analysis:  Feature Importance\n",
    "\n",
    "Understanding why is **key** to every business, not how low MSE we got.  Extracting which feature is important for prediction can help us interpret the results.  There are several ways: algorithm, permutation, and shap.  Note that these techniques can be mostly applied to most algorithms. \n",
    "\n",
    "Most of the time, we just apply all, and check the consistency."
   ]
  },
  {
   "attachments": {},
   "cell_type": "markdown",
   "id": "073fb9a1",
   "metadata": {},
   "source": [
    "#### Algorithm way\n",
    "\n",
    "Some ML algorithms provide feature importance score after you fit the model"
   ]
  },
  {
   "cell_type": "code",
   "execution_count": 89,
   "id": "85bed781",
   "metadata": {},
   "outputs": [
    {
     "data": {
      "text/plain": [
       "array([0.46880508, 0.05824726, 0.47294766])"
      ]
     },
     "execution_count": 89,
     "metadata": {},
     "output_type": "execute_result"
    }
   ],
   "source": [
    "#stored in this variable\n",
    "#note that grid here is random forest\n",
    "rf = grid.best_estimator_\n",
    "\n",
    "rf.feature_importances_"
   ]
  },
  {
   "cell_type": "code",
   "execution_count": 90,
   "id": "828da6f8",
   "metadata": {},
   "outputs": [
    {
     "data": {
      "text/plain": [
       "<BarContainer object of 3 artists>"
      ]
     },
     "execution_count": 90,
     "metadata": {},
     "output_type": "execute_result"
    },
    {
     "data": {
      "image/png": "[encoded data removed]",
      "text/plain": [
       "<Figure size 640x480 with 1 Axes>"
      ]
     },
     "metadata": {},
     "output_type": "display_data"
    }
   ],
   "source": [
    "#let's plot\n",
    "plt.barh(X.columns, rf.feature_importances_)"
   ]
  },
  {
   "cell_type": "code",
   "execution_count": 91,
   "id": "f88aac13",
   "metadata": {},
   "outputs": [
    {
     "data": {
      "text/plain": [
       "Text(0.5, 0, 'Random Forest Feature Importance')"
      ]
     },
     "execution_count": 91,
     "metadata": {},
     "output_type": "execute_result"
    },
    {
     "data": {
      "image/png": "[encoded data removed]",
      "text/plain": [
       "<Figure size 640x480 with 1 Axes>"
      ]
     },
     "metadata": {},
     "output_type": "display_data"
    }
   ],
   "source": [
    "#hmm...let's sort first\n",
    "sorted_idx = rf.feature_importances_.argsort()\n",
    "plt.barh(X.columns[sorted_idx], rf.feature_importances_[sorted_idx])\n",
    "plt.xlabel(\"Random Forest Feature Importance\")"
   ]
  },
  {
   "attachments": {},
   "cell_type": "markdown",
   "id": "e2398c6b",
   "metadata": {},
   "source": [
    "#### Permutation way\n",
    "\n",
    "This method will randomly shuffle each feature and compute the change in the model’s performance. The features which impact the performance the most are the most important one.\n",
    "\n",
    "*Note*: The permutation based importance is computationally expensive. The permutation based method can have problem with highly-correlated features, it can report them as unimportant."
   ]
  },
  {
   "cell_type": "code",
   "execution_count": 92,
   "id": "be11a277",
   "metadata": {},
   "outputs": [
    {
     "data": {
      "text/plain": [
       "Text(0.5, 0, 'Random Forest Feature Importance')"
      ]
     },
     "execution_count": 92,
     "metadata": {},
     "output_type": "execute_result"
    },
    {
     "data": {
      "image/png": "[encoded data removed]",
      "text/plain": [
       "<Figure size 640x480 with 1 Axes>"
      ]
     },
     "metadata": {},
     "output_type": "display_data"
    }
   ],
   "source": [
    "from sklearn.inspection import permutation_importance\n",
    "\n",
    "perm_importance = permutation_importance(rf, X_test, y_test)\n",
    "\n",
    "#let's plot\n",
    "sorted_idx = perm_importance.importances_mean.argsort()\n",
    "plt.barh(X.columns[sorted_idx], perm_importance.importances_mean[sorted_idx])\n",
    "plt.xlabel(\"Random Forest Feature Importance\")"
   ]
  },
  {
   "attachments": {},
   "cell_type": "markdown",
   "id": "d076c453",
   "metadata": {},
   "source": [
    "#### Shap way\n",
    "\n",
    "The SHAP interpretation can be used (it is model-agnostic) to compute the feature importances. It is using the Shapley values from game theory to estimate the how does each feature contribute to the prediction. It can be easily installed (<code>pip install shap</code>) "
   ]
  },
  {
   "cell_type": "code",
   "execution_count": 93,
   "metadata": {},
   "outputs": [],
   "source": [
    "import shap\n",
    "\n",
    "explainer = shap.TreeExplainer(rf)\n",
    "shap_values = explainer.shap_values(X_test)"
   ]
  },
  {
   "cell_type": "code",
   "execution_count": 94,
   "metadata": {},
   "outputs": [
    {
     "data": {
      "image/png": "[encoded data removed]",
      "text/plain": [
       "<Figure size 800x270 with 1 Axes>"
      ]
     },
     "metadata": {},
     "output_type": "display_data"
    }
   ],
   "source": [
    "#shap provides plot\n",
    "shap.summary_plot(shap_values, X_test, plot_type=\"bar\", feature_names = X.columns)"
   ]
  },
  {
   "attachments": {},
   "cell_type": "markdown",
   "metadata": {},
   "source": [
    "## 9. Inference\n",
    "\n",
    "To provide inference service or deploy, it's best to save the model for latter use."
   ]
  },
  {
   "cell_type": "code",
   "execution_count": 95,
   "metadata": {},
   "outputs": [
    {
     "name": "stdout",
     "output_type": "stream",
     "text": [
      "Model and associated values have been loaded!\n"
     ]
    }
   ],
   "source": [
    "# Load the dictionary from the file\n",
    "with open('../models/car_price.model', 'rb') as file:\n",
    "    loaded_model = pickle.load(file)\n",
    "\n",
    "# Access individual components\n",
    "model = loaded_model['model']\n",
    "scaler = loaded_model['scaler']\n",
    "max_power = loaded_model['max_power']\n",
    "mileage = loaded_model['mileage']\n",
    "year = loaded_model['year']\n",
    "\n",
    "print(\"Model and associated values have been loaded!\")"
   ]
  },
  {
   "cell_type": "code",
   "execution_count": 96,
   "id": "09331fb4",
   "metadata": {},
   "outputs": [
    {
     "data": {
      "text/plain": [
       "max_power     103.52\n",
       "mileage        21.14\n",
       "year         2014.00\n",
       "Name: 1, dtype: float64"
      ]
     },
     "execution_count": 96,
     "metadata": {},
     "output_type": "execute_result"
    }
   ],
   "source": [
    "#let's try to create one silly example\n",
    "df[['max_power', 'mileage','year']].loc[1]"
   ]
  },
  {
   "cell_type": "code",
   "execution_count": 97,
   "id": "11c157da",
   "metadata": {},
   "outputs": [
    {
     "data": {
      "text/plain": [
       "array([[-0.26521058, -0.00628168,  2.2851408 ]])"
      ]
     },
     "execution_count": 97,
     "metadata": {},
     "output_type": "execute_result"
    }
   ],
   "source": [
    "# max_power, mileage, year\n",
    "sample = np.array([[82.4, 19.392, 2023]])\n",
    "sample_scaled = scaler.transform(sample)\n",
    "sample_scaled"
   ]
  },
  {
   "cell_type": "code",
   "execution_count": 98,
   "id": "0e03804d",
   "metadata": {},
   "outputs": [
    {
     "data": {
      "text/plain": [
       "array([4359782.9920812])"
      ]
     },
     "execution_count": 98,
     "metadata": {},
     "output_type": "execute_result"
    }
   ],
   "source": [
    "predicted_car_price = model.predict(sample)\n",
    "predicted_car_price = np.exp(predicted_car_price)\n",
    "predicted_car_price"
   ]
  },
  {
   "cell_type": "markdown",
   "id": "7900c0f5",
   "metadata": {},
   "source": [
    "# Task2.  Report and Analysis\n",
    "\n",
    "\n",
    "The selected features for prediction are 'mileage,' 'year,' and 'max_power' due to their strong correlation with car prices. The manufacturing year is a key determinant because newer cars tend to have higher resale value. Mileage is another critical factor, as it reflects a vehicle’s fuel efficiency and condition, making it a strong indicator of price. Max power, representing engine performance, also plays a significant role since it appeals to buyers who prioritize power and vehicle capability. On the other hand, features like the car’s name are overly specific and not generalizable, while torque is difficult to parse into a usable format and has shown a weaker relationship with car prices, making these features less useful for accurate predictions.\n",
    "\n",
    "When evaluating algorithms, the Random Forest Regressor demonstrated the best performance, achieving the lowest mean MSE. Its ability to capture complex, nonlinear relationships and interactions between variables made it highly effective in this context. The Decision Tree Regressor also performed reasonably well but was slightly less reliable due to its tendency to overfit. Linear Regression and Support Vector Regression (SVR) faced challenges; Linear Regression struggled with the data's non-linearity, while SVR’s performance depended heavily on hyperparameter tuning. K-Nearest Neighbors (KNN), although straightforward, lacked the sophistication required to effectively model the intricate patterns in the dataset. Ultimately, Random Forest proved to be the most reliable algorithm, especially after hyperparameter optimization through grid search, leveraging key features like mileage, year, and max power to deliver the best predictive results."
   ]
  }
 ],
 "metadata": {
  "kernelspec": {
   "display_name": "ml-dl",
   "language": "python",
   "name": "python3"
  },
  "language_info": {
   "codemirror_mode": {
    "name": "ipython",
    "version": 3
   },
   "file_extension": ".py",
   "mimetype": "text/x-python",
   "name": "python",
   "nbconvert_exporter": "python",
   "pygments_lexer": "ipython3",
   "version": "3.10.16"
  }
 },
 "nbformat": 4,
 "nbformat_minor": 5
}
